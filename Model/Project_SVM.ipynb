{
 "cells": [
  {
   "cell_type": "code",
   "execution_count": 5,
   "metadata": {},
   "outputs": [],
   "source": [
    "# %pip install numpy matplotlib scipy sklearn libsvm pandas seaborn"
   ]
  },
  {
   "cell_type": "code",
   "execution_count": 1,
   "metadata": {},
   "outputs": [],
   "source": [
    "# Load Library\n",
    "import random\n",
    "import math\n",
    "import numpy as np\n",
    "import matplotlib.pyplot as plt\n",
    "import scipy.io as io\n",
    "import sklearn\n",
    "import pandas as pd\n",
    "import seaborn as sns\n",
    "from sklearn.metrics import confusion_matrix\n",
    "\n",
    "%matplotlib inline\n",
    "random.seed(1)"
   ]
  },
  {
   "cell_type": "code",
   "execution_count": 2,
   "metadata": {},
   "outputs": [],
   "source": [
    "# Load Train Data\n",
    "Data = pd.read_csv(\"Data/Raw/train.csv\")\n",
    "Data['Neighbourhood'] = Data['Neighbourhood'].astype(str)\n",
    "Y = Data['Decision']\n",
    "X = Data.drop(['Decision'], axis=1)\n",
    "# Load Test Data\n",
    "Test = pd.read_csv(\"Data/Raw/test.csv\")\n",
    "Test['Neighbourhood'] = Test['Neighbourhood'].astype(str)"
   ]
  },
  {
   "cell_type": "code",
   "execution_count": 3,
   "metadata": {},
   "outputs": [
    {
     "data": {
      "text/plain": [
       "1    4735\n",
       "0    2736\n",
       "Name: Decision, dtype: int64"
      ]
     },
     "execution_count": 3,
     "metadata": {},
     "output_type": "execute_result"
    }
   ],
   "source": [
    "Data['Decision'].value_counts()"
   ]
  },
  {
   "cell_type": "code",
   "execution_count": 5,
   "metadata": {},
   "outputs": [],
   "source": [
    "def Encode(airbnb):\n",
    "    for column in airbnb.columns[airbnb.columns.isin(['Room_type', 'Month','Neighbourhood'])]:\n",
    "        airbnb[column] = airbnb[column].factorize()[0]\n",
    "    return airbnb\n",
    "\n",
    "X_data = Encode(X.copy())\n",
    "Test_data = Encode(Test.copy())"
   ]
  },
  {
   "cell_type": "code",
   "execution_count": 6,
   "metadata": {},
   "outputs": [],
   "source": [
    "# Split Data: 20% Test, 80% Train\n",
    "from sklearn.model_selection import train_test_split\n",
    "X_train, X_test, y_train, y_test = train_test_split(X_data,Y, test_size=0.2, random_state= 1)"
   ]
  },
  {
   "cell_type": "markdown",
   "metadata": {},
   "source": [
    "# Base Model"
   ]
  },
  {
   "cell_type": "code",
   "execution_count": 7,
   "metadata": {},
   "outputs": [
    {
     "name": "stdout",
     "output_type": "stream",
     "text": [
      "Model f1 score with default hyperparameters: 0.7742\n"
     ]
    }
   ],
   "source": [
    "from sklearn.svm import SVC\n",
    "from sklearn.metrics import accuracy_score,f1_score\n",
    "\n",
    "# instantiate classifier with default hyperparameters\n",
    "svc=SVC() \n",
    "\n",
    "# fit classifier to training set\n",
    "svc.fit(X_train,y_train)\n",
    "\n",
    "# make predictions on test set\n",
    "y_pred=svc.predict(X_test)\n",
    "\n",
    "# compute and print accuracy score\n",
    "print('Model f1 score with default hyperparameters: {0:0.4f}'. format(f1_score(y_test, y_pred)))"
   ]
  },
  {
   "cell_type": "code",
   "execution_count": null,
   "metadata": {},
   "outputs": [],
   "source": []
  },
  {
   "cell_type": "markdown",
   "metadata": {},
   "source": [
    "# Run SVM with rbf kernel and different C value\n"
   ]
  },
  {
   "cell_type": "code",
   "execution_count": 8,
   "metadata": {},
   "outputs": [
    {
     "name": "stdout",
     "output_type": "stream",
     "text": [
      "Model f1 score with C=100 and rbf kernel hyperparameters: 0.7811\n"
     ]
    }
   ],
   "source": [
    "svc=SVC(C=100.0)  #SVM Default is kernel='rbf'\n",
    "\n",
    "# fit classifier to training set\n",
    "svc.fit(X_train,y_train)\n",
    "\n",
    "# make predictions on test set\n",
    "y_pred=svc.predict(X_test)\n",
    "\n",
    "# compute and print accuracy score\n",
    "print('Model f1 score with C=100 and rbf kernel hyperparameters: {0:0.4f}'. format(f1_score(y_test, y_pred)))"
   ]
  },
  {
   "cell_type": "code",
   "execution_count": 9,
   "metadata": {},
   "outputs": [
    {
     "data": {
      "text/plain": [
       "0.6622073578595318"
      ]
     },
     "execution_count": 9,
     "metadata": {},
     "output_type": "execute_result"
    }
   ],
   "source": [
    "accuracy_score(y_test, y_pred)"
   ]
  },
  {
   "cell_type": "code",
   "execution_count": 10,
   "metadata": {},
   "outputs": [
    {
     "name": "stdout",
     "output_type": "stream",
     "text": [
      "Model f1 score with C=1000 and rbf kernel hyperparameters: 0.7892\n"
     ]
    }
   ],
   "source": [
    "svc=SVC(C=1000)  #SVM Default is kernel='rbf'\n",
    "\n",
    "# fit classifier to training set\n",
    "svc.fit(X_train,y_train)\n",
    "\n",
    "# make predictions on test set\n",
    "y_pred=svc.predict(X_test)\n",
    "\n",
    "# compute and print accuracy score\n",
    "print('Model f1 score with C=1000 and rbf kernel hyperparameters: {0:0.4f}'. format(f1_score(y_test, y_pred)))"
   ]
  },
  {
   "cell_type": "code",
   "execution_count": 11,
   "metadata": {},
   "outputs": [
    {
     "data": {
      "text/plain": [
       "0.6809364548494983"
      ]
     },
     "execution_count": 11,
     "metadata": {},
     "output_type": "execute_result"
    }
   ],
   "source": [
    "accuracy_score(y_test, y_pred)"
   ]
  },
  {
   "cell_type": "code",
   "execution_count": 12,
   "metadata": {},
   "outputs": [
    {
     "name": "stdout",
     "output_type": "stream",
     "text": [
      "Model f1 score with C=10000 and rbf kernel hyperparameters: 0.7916\n"
     ]
    }
   ],
   "source": [
    "svc=SVC(C=10000)  #SVM Default is kernel='rbf'\n",
    "\n",
    "# fit classifier to training set\n",
    "svc.fit(X_train,y_train)\n",
    "\n",
    "# make predictions on test set\n",
    "y_pred=svc.predict(X_test)\n",
    "\n",
    "# compute and print accuracy score\n",
    "print('Model f1 score with C=10000 and rbf kernel hyperparameters: {0:0.4f}'. format(f1_score(y_test, y_pred)))"
   ]
  },
  {
   "cell_type": "code",
   "execution_count": 13,
   "metadata": {},
   "outputs": [
    {
     "data": {
      "text/plain": [
       "0.6882943143812709"
      ]
     },
     "execution_count": 13,
     "metadata": {},
     "output_type": "execute_result"
    }
   ],
   "source": [
    "accuracy_score(y_test, y_pred)"
   ]
  },
  {
   "cell_type": "code",
   "execution_count": 31,
   "metadata": {},
   "outputs": [
    {
     "name": "stdout",
     "output_type": "stream",
     "text": [
      "Model f1 score with C=100000 and rbf kernel hyperparameters: 0.7908\n"
     ]
    }
   ],
   "source": [
    "svc=SVC(C=100000)  #SVM Default is kernel='rbf'\n",
    "\n",
    "# fit classifier to training set\n",
    "svc.fit(X_train,y_train)\n",
    "\n",
    "# make predictions on test set\n",
    "y_pred=svc.predict(X_test)\n",
    "\n",
    "# compute and print accuracy score\n",
    "print('Model f1 score with C=100000 and rbf kernel hyperparameters: {0:0.4f}'. format(f1_score(y_test, y_pred)))"
   ]
  },
  {
   "cell_type": "code",
   "execution_count": 15,
   "metadata": {},
   "outputs": [
    {
     "data": {
      "text/plain": [
       "0.6903010033444816"
      ]
     },
     "execution_count": 15,
     "metadata": {},
     "output_type": "execute_result"
    }
   ],
   "source": [
    "accuracy_score(y_test, y_pred)"
   ]
  },
  {
   "cell_type": "code",
   "execution_count": 32,
   "metadata": {},
   "outputs": [],
   "source": [
    "prediction = svc.predict(Test_data)\n",
    "submission = pd.read_csv(\"Submission/sample_submission.csv\")\n",
    "submission[\"Decision\"] = prediction\n",
    "pd.DataFrame(submission).to_csv(\"linear_SVC_Take_2.csv\")"
   ]
  },
  {
   "cell_type": "code",
   "execution_count": 33,
   "metadata": {},
   "outputs": [
    {
     "data": {
      "text/plain": [
       "1    2030\n",
       "0     410\n",
       "Name: Decision, dtype: int64"
      ]
     },
     "execution_count": 33,
     "metadata": {},
     "output_type": "execute_result"
    }
   ],
   "source": [
    "submission[\"Decision\"].value_counts()"
   ]
  },
  {
   "cell_type": "markdown",
   "metadata": {},
   "source": [
    "# Run SVM with linear kernel and C=100.0"
   ]
  },
  {
   "cell_type": "code",
   "execution_count": 18,
   "metadata": {},
   "outputs": [
    {
     "name": "stdout",
     "output_type": "stream",
     "text": [
      "Model f1 score with C=100 and linear kernel hyperparameters: 0.7535\n"
     ]
    }
   ],
   "source": [
    "svc=SVC(C=100, kernel = 'linear')  #SVM Default is kernel='rbf'\n",
    "\n",
    "# fit classifier to training set\n",
    "svc.fit(X_train,y_train)\n",
    "\n",
    "# make predictions on test set\n",
    "y_pred=svc.predict(X_test)\n",
    "\n",
    "# compute and print accuracy score\n",
    "print('Model f1 score with C=100 and linear kernel hyperparameters: {0:0.4f}'. format(f1_score(y_test, y_pred)))"
   ]
  },
  {
   "cell_type": "code",
   "execution_count": 24,
   "metadata": {},
   "outputs": [
    {
     "name": "stdout",
     "output_type": "stream",
     "text": [
      "Model f1 score with C=100 and linear kernel hyperparameters: 0.7709 on train data\n",
      "Model accuracy_score score with C=100 and linear kernel hyperparameters: 0.6714 on train data\n",
      "Model f1 score with C=100 and linear kernel hyperparameters: 0.7535 on test data\n",
      "Model accuracy_score score with C=100 and linear kernel hyperparameters: 0.6455 on train data\n"
     ]
    }
   ],
   "source": [
    "train_pred=svc.predict(X_train)\n",
    "print('Model f1 score with C=100 and linear kernel hyperparameters: {0:0.4f} on train data'. format(f1_score(y_train, train_pred)))\n",
    "print('Model accuracy_score score with C=100 and linear kernel hyperparameters: {0:0.4f} on train data'. format(accuracy_score(y_train, train_pred)))\n",
    "\n",
    "test_pred=svc.predict(X_test)\n",
    "print('Model f1 score with C=100 and linear kernel hyperparameters: {0:0.4f} on test data'. format(f1_score(y_test, test_pred)))\n",
    "print('Model accuracy_score score with C=100 and linear kernel hyperparameters: {0:0.4f} on train data'. format(accuracy_score(y_test, test_pred)))\n"
   ]
  },
  {
   "cell_type": "code",
   "execution_count": 30,
   "metadata": {},
   "outputs": [],
   "source": [
    "prediction = svc.predict(Test_data)\n",
    "submission = pd.read_csv(\"Submission/sample_submission.csv\")\n",
    "submission[\"Decision\"] = prediction\n",
    "pd.DataFrame(submission).to_csv(\"linear_SVC_Take_1.csv\")"
   ]
  },
  {
   "cell_type": "markdown",
   "metadata": {},
   "source": [
    "## Because we see extremely high false negative rate, we will rescale the dataframe "
   ]
  },
  {
   "cell_type": "code",
   "execution_count": 24,
   "metadata": {},
   "outputs": [],
   "source": [
    "from sklearn import preprocessing\n",
    "# scaler = preprocessing.StandardScaler().fit(X_train)\n",
    "# X_train = scaler.transform(X_train)"
   ]
  },
  {
   "cell_type": "markdown",
   "metadata": {},
   "source": [
    "## Optimization Using GridSearchCV:"
   ]
  },
  {
   "cell_type": "code",
   "execution_count": 26,
   "metadata": {},
   "outputs": [],
   "source": [
    "import libsvm\n",
    "\n",
    "from libsvm.svmutil import *"
   ]
  },
  {
   "cell_type": "code",
   "execution_count": 34,
   "metadata": {},
   "outputs": [
    {
     "name": "stdout",
     "output_type": "stream",
     "text": [
      "Accuracy = 64.7492% (968/1495) (classification)\n",
      "0 (64.74916387959865, 0.35250836120401335, 0.02161153715453269)\n",
      "Accuracy = 56.3211% (842/1495) (classification)\n",
      "1 (56.32107023411371, 0.4367892976588629, 0.0017361030327314511)\n",
      "Accuracy = 76.5886% (1145/1495) (classification)\n",
      "2 (76.58862876254182, 0.23411371237458195, 0.2307799110242381)\n",
      "Accuracy = 63.3445% (947/1495) (classification)\n",
      "3 (63.34448160535116, 0.3665551839464883, nan)\n"
     ]
    },
    {
     "ename": "ValueError",
     "evalue": "Wrong input format: first column must be 0:sample_serial_number",
     "output_type": "error",
     "traceback": [
      "\u001b[1;31m---------------------------------------------------------------------------\u001b[0m",
      "\u001b[1;31mValueError\u001b[0m                                Traceback (most recent call last)",
      "\u001b[1;32m~\\AppData\\Local\\Temp/ipykernel_9876/869642107.py\u001b[0m in \u001b[0;36m<module>\u001b[1;34m\u001b[0m\n\u001b[0;32m      5\u001b[0m     \u001b[0mparam\u001b[0m\u001b[1;33m.\u001b[0m\u001b[0mkernel_type\u001b[0m \u001b[1;33m=\u001b[0m \u001b[0mC_val\u001b[0m\u001b[1;33m\u001b[0m\u001b[1;33m\u001b[0m\u001b[0m\n\u001b[0;32m      6\u001b[0m     \u001b[0mparam\u001b[0m\u001b[1;33m.\u001b[0m\u001b[0msvm_type\u001b[0m \u001b[1;33m=\u001b[0m \u001b[1;36m0\u001b[0m\u001b[1;33m\u001b[0m\u001b[1;33m\u001b[0m\u001b[0m\n\u001b[1;32m----> 7\u001b[1;33m     \u001b[0mmodel\u001b[0m \u001b[1;33m=\u001b[0m \u001b[0msvm_train\u001b[0m\u001b[1;33m(\u001b[0m\u001b[0mprob\u001b[0m\u001b[1;33m,\u001b[0m\u001b[0mparam\u001b[0m\u001b[1;33m)\u001b[0m\u001b[1;33m\u001b[0m\u001b[1;33m\u001b[0m\u001b[0m\n\u001b[0m\u001b[0;32m      8\u001b[0m     \u001b[0mp_label\u001b[0m\u001b[1;33m,\u001b[0m\u001b[0mp_acc\u001b[0m\u001b[1;33m,\u001b[0m\u001b[0mp_val\u001b[0m \u001b[1;33m=\u001b[0m \u001b[0msvm_predict\u001b[0m\u001b[1;33m(\u001b[0m\u001b[0my_test\u001b[0m\u001b[1;33m.\u001b[0m\u001b[0mto_numpy\u001b[0m\u001b[1;33m(\u001b[0m\u001b[1;33m)\u001b[0m\u001b[1;33m,\u001b[0m \u001b[0mX_test\u001b[0m\u001b[1;33m.\u001b[0m\u001b[0mto_numpy\u001b[0m\u001b[1;33m(\u001b[0m\u001b[1;33m)\u001b[0m\u001b[1;33m,\u001b[0m \u001b[0mmodel\u001b[0m\u001b[1;33m)\u001b[0m\u001b[1;33m\u001b[0m\u001b[1;33m\u001b[0m\u001b[0m\n\u001b[0;32m      9\u001b[0m     \u001b[0mprint\u001b[0m\u001b[1;33m(\u001b[0m\u001b[0mC_val\u001b[0m\u001b[1;33m,\u001b[0m \u001b[0mp_acc\u001b[0m\u001b[1;33m)\u001b[0m\u001b[1;33m\u001b[0m\u001b[1;33m\u001b[0m\u001b[0m\n",
      "\u001b[1;32m~\\anaconda3\\lib\\site-packages\\libsvm\\svmutil.py\u001b[0m in \u001b[0;36msvm_train\u001b[1;34m(arg1, arg2, arg3)\u001b[0m\n\u001b[0;32m    102\u001b[0m                         \u001b[0midx\u001b[0m\u001b[1;33m,\u001b[0m \u001b[0mval\u001b[0m \u001b[1;33m=\u001b[0m \u001b[0mxi\u001b[0m\u001b[1;33m[\u001b[0m\u001b[1;36m0\u001b[0m\u001b[1;33m]\u001b[0m\u001b[1;33m.\u001b[0m\u001b[0mindex\u001b[0m\u001b[1;33m,\u001b[0m \u001b[0mxi\u001b[0m\u001b[1;33m[\u001b[0m\u001b[1;36m0\u001b[0m\u001b[1;33m]\u001b[0m\u001b[1;33m.\u001b[0m\u001b[0mvalue\u001b[0m\u001b[1;33m\u001b[0m\u001b[1;33m\u001b[0m\u001b[0m\n\u001b[0;32m    103\u001b[0m                         \u001b[1;32mif\u001b[0m \u001b[0midx\u001b[0m \u001b[1;33m!=\u001b[0m \u001b[1;36m0\u001b[0m\u001b[1;33m:\u001b[0m\u001b[1;33m\u001b[0m\u001b[1;33m\u001b[0m\u001b[0m\n\u001b[1;32m--> 104\u001b[1;33m                                 \u001b[1;32mraise\u001b[0m \u001b[0mValueError\u001b[0m\u001b[1;33m(\u001b[0m\u001b[1;34m'Wrong input format: first column must be 0:sample_serial_number'\u001b[0m\u001b[1;33m)\u001b[0m\u001b[1;33m\u001b[0m\u001b[1;33m\u001b[0m\u001b[0m\n\u001b[0m\u001b[0;32m    105\u001b[0m                         \u001b[1;32mif\u001b[0m \u001b[0mval\u001b[0m \u001b[1;33m<=\u001b[0m \u001b[1;36m0\u001b[0m \u001b[1;32mor\u001b[0m \u001b[0mval\u001b[0m \u001b[1;33m>\u001b[0m \u001b[0mprob\u001b[0m\u001b[1;33m.\u001b[0m\u001b[0mn\u001b[0m\u001b[1;33m:\u001b[0m\u001b[1;33m\u001b[0m\u001b[1;33m\u001b[0m\u001b[0m\n\u001b[0;32m    106\u001b[0m                                 \u001b[1;32mraise\u001b[0m \u001b[0mValueError\u001b[0m\u001b[1;33m(\u001b[0m\u001b[1;34m'Wrong input format: sample_serial_number out of range'\u001b[0m\u001b[1;33m)\u001b[0m\u001b[1;33m\u001b[0m\u001b[1;33m\u001b[0m\u001b[0m\n",
      "\u001b[1;31mValueError\u001b[0m: Wrong input format: first column must be 0:sample_serial_number"
     ]
    }
   ],
   "source": [
    "kernel_type = [0,1,2,3]\n",
    "prob = svm_problem(y_train.to_numpy(),X_train)\n",
    "for id, C_val in enumerate(kernel_type):\n",
    "    param = svm_parameter()\n",
    "    param.kernel_type = C_val\n",
    "    model = svm_train(prob,param)\n",
    "    p_label,p_acc,p_val = svm_predict(y_test.to_numpy(), X_test.to_numpy(), model)\n",
    "    print(C_val, p_acc)"
   ]
  },
  {
   "cell_type": "code",
   "execution_count": 22,
   "metadata": {},
   "outputs": [
    {
     "name": "stderr",
     "output_type": "stream",
     "text": [
      "/Users/yuchenlu/opt/anaconda3/lib/python3.7/site-packages/seaborn/_decorators.py:43: FutureWarning: Pass the following variables as keyword args: x, y. From version 0.12, the only valid positional argument will be `data`, and passing other arguments without an explicit keyword will result in an error or misinterpretation.\n",
      "  FutureWarning\n"
     ]
    },
    {
     "data": {
      "text/plain": [
       "<matplotlib.axes._subplots.AxesSubplot at 0x7f9d115fd890>"
      ]
     },
     "execution_count": 22,
     "metadata": {},
     "output_type": "execute_result"
    },
    {
     "data": {
      "image/png": "[encoded data removed]",
      "text/plain": [
       "<Figure size 432x288 with 1 Axes>"
      ]
     },
     "metadata": {
      "needs_background": "light"
     },
     "output_type": "display_data"
    }
   ],
   "source": [
    "plt.xlabel('kernel_type')\n",
    "plt.ylabel('accuracy_score')\n",
    "plt.ylim(0.5,0.8)\n",
    "plt.title(\"Radial Basis Function has the highest accuracy Score\")\n",
    "sns.barplot(['linear','polynomial','radial basis function','sigmoid'], [0.64,0.56,0.76,0.63])"
   ]
  },
  {
   "cell_type": "markdown",
   "metadata": {},
   "source": [
    "We have the highest Accuracy score at 76.5886% (1145/1495) with kernel type 2, which is rbf(radial basis function). Which is uses the function exp(-gamma*|u-v|^2). Therefore, we will continue to optimize the gamma and svm value."
   ]
  },
  {
   "cell_type": "code",
   "execution_count": 39,
   "metadata": {},
   "outputs": [
    {
     "name": "stdout",
     "output_type": "stream",
     "text": [
      "Accuracy = 76.5886% (1145/1495) (classification)\n",
      "0 (76.58862876254182, 0.23411371237458195, 0.2307799110242381)\n",
      "Accuracy = 77.3913% (1157/1495) (classification)\n",
      "1 (77.39130434782608, 0.22608695652173913, 0.24647040234171502)\n",
      "Accuracy = 4.21405% (63/1495) (classification)\n",
      "2 (4.214046822742475, 2.731772575250836, 0.03729548930683516)\n"
     ]
    }
   ],
   "source": [
    "svm_type = [0,1,2]\n",
    "prob = svm_problem(y_train.to_numpy(),X_train.to_numpy())\n",
    "for id_val, C_val in enumerate(svm_type):\n",
    "    param = svm_parameter()\n",
    "    param.kernel_type = 2\n",
    "    param.svm_type = C_val\n",
    "    model = svm_train(prob,param)\n",
    "    p_label,p_acc,p_val = svm_predict(y_test.to_numpy(), X_test.to_numpy(), model)\n",
    "    print(C_val, p_acc)"
   ]
  },
  {
   "cell_type": "code",
   "execution_count": 25,
   "metadata": {},
   "outputs": [
    {
     "name": "stderr",
     "output_type": "stream",
     "text": [
      "/Users/yuchenlu/opt/anaconda3/lib/python3.7/site-packages/seaborn/_decorators.py:43: FutureWarning: Pass the following variables as keyword args: x, y. From version 0.12, the only valid positional argument will be `data`, and passing other arguments without an explicit keyword will result in an error or misinterpretation.\n",
      "  FutureWarning\n"
     ]
    },
    {
     "data": {
      "text/plain": [
       "<matplotlib.axes._subplots.AxesSubplot at 0x7f9d13cf4ad0>"
      ]
     },
     "execution_count": 25,
     "metadata": {},
     "output_type": "execute_result"
    },
    {
     "data": {
      "image/png": "[encoded data removed]",
      "text/plain": [
       "<Figure size 432x288 with 1 Axes>"
      ]
     },
     "metadata": {
      "needs_background": "light"
     },
     "output_type": "display_data"
    }
   ],
   "source": [
    "plt.xlabel('SVC_type')\n",
    "plt.ylabel('accuracy_score')\n",
    "plt.title(\"C-SVC has the highest accuracy Score\")\n",
    "sns.barplot(['C-SVC','nu-SVC','one-class SVM'], [0.76,0.77,0.042])"
   ]
  },
  {
   "cell_type": "markdown",
   "metadata": {},
   "source": [
    "In the classification type(svm_type 0;1;2), I observe the highest accuracy score with svm_type 0, which is C-SVC. We then try to optimize the gamma value with the following parameter:\n",
    "* kernel_type = 2; svm_type = 0"
   ]
  },
  {
   "cell_type": "code",
   "execution_count": 43,
   "metadata": {},
   "outputs": [
    {
     "name": "stdout",
     "output_type": "stream",
     "text": [
      "Accuracy = 76.5886% (1145/1495) (classification)\n",
      "0.0 (76.58862876254182, 0.23411371237458195, 0.2307799110242381)\n",
      "Accuracy = 76.9231% (1150/1495) (classification)\n",
      "0.1 (76.92307692307693, 0.23076923076923078, 0.24314639806006702)\n",
      "Accuracy = 76.1873% (1139/1495) (classification)\n",
      "0.2 (76.18729096989966, 0.23812709030100335, 0.23974637703097157)\n",
      "Accuracy = 74.0468% (1107/1495) (classification)\n",
      "0.30000000000000004 (74.04682274247492, 0.25953177257525084, 0.1951692351837826)\n",
      "Accuracy = 73.311% (1096/1495) (classification)\n",
      "0.4 (73.31103678929766, 0.26688963210702343, 0.18016216615336267)\n",
      "Accuracy = 72.709% (1087/1495) (classification)\n",
      "0.5 (72.70903010033445, 0.2729096989966555, 0.1700531644924858)\n",
      "Accuracy = 71.7057% (1072/1495) (classification)\n",
      "0.6000000000000001 (71.70568561872909, 0.282943143812709, 0.1491636783154792)\n",
      "Accuracy = 71.7057% (1072/1495) (classification)\n",
      "0.7000000000000001 (71.70568561872909, 0.282943143812709, 0.1500965989653805)\n",
      "Accuracy = 71.505% (1069/1495) (classification)\n",
      "0.8 (71.50501672240802, 0.28494983277591973, 0.14694012512060392)\n",
      "Accuracy = 68.2274% (1020/1495) (classification)\n",
      "0.9 (68.22742474916387, 0.3177257525083612, 0.08630126110901172)\n"
     ]
    }
   ],
   "source": [
    "gamma = np.arange(0,1,0.1)\n",
    "prob = svm_problem(y_train.to_numpy(),X_train.to_numpy())\n",
    "for id_gamma, C_val in enumerate(gamma):\n",
    "    param = svm_parameter()\n",
    "    param.kernel_type = 2\n",
    "    param.svm_type = 0\n",
    "    param.gamma = C_val\n",
    "    model = svm_train(prob,param)\n",
    "    p_label,p_acc,p_val = svm_predict(y_test.to_numpy(), X_test.to_numpy(), model)\n",
    "    print(C_val, p_acc)"
   ]
  },
  {
   "cell_type": "code",
   "execution_count": 32,
   "metadata": {},
   "outputs": [
    {
     "data": {
      "text/plain": [
       "[<matplotlib.lines.Line2D at 0x7f9d117d4710>]"
      ]
     },
     "execution_count": 32,
     "metadata": {},
     "output_type": "execute_result"
    },
    {
     "data": {
      "image/png": "[encoded data removed]",
      "text/plain": [
       "<Figure size 432x288 with 1 Axes>"
      ]
     },
     "metadata": {
      "needs_background": "light"
     },
     "output_type": "display_data"
    }
   ],
   "source": [
    "gamma = np.arange(0,1,0.1)\n",
    "acc = [0.765886,0.769231,0.761873,0.740468, 0.73311,0.72709,0.717057,0.717057,0.71505, 0.682274]\n",
    "plt.xlabel('gamma')\n",
    "plt.ylabel('accuracy_score')\n",
    "plt.title(\"Gamma Maximize Accuracy Score at 0.1\")\n",
    "plt.plot(gamma, acc)"
   ]
  },
  {
   "cell_type": "markdown",
   "metadata": {},
   "source": [
    "The highest accuracy score given is 0.25. \n",
    "The finalized optimized data is:\n",
    "* gamma = 0.1; kernel_type = 2; svm_type = 0"
   ]
  },
  {
   "cell_type": "code",
   "execution_count": null,
   "metadata": {},
   "outputs": [],
   "source": []
  },
  {
   "cell_type": "code",
   "execution_count": 45,
   "metadata": {},
   "outputs": [
    {
     "name": "stdout",
     "output_type": "stream",
     "text": [
      "Accuracy = 77.9933% (1166/1495) (classification)\n"
     ]
    }
   ],
   "source": [
    "prob = svm_problem(y_train.to_numpy(),X_train.to_numpy())\n",
    "param = svm_parameter()\n",
    "param.gamma = 0.2\n",
    "param.svm_type = 1\n",
    "param.kernel_type = 2\n",
    "model = svm_train(prob,param)\n",
    "p_label,p_acc,p_val = svm_predict(y_test.to_numpy(), X_test.to_numpy(), model)\n",
    "# p_label,p_acc,p_val = svm_predict(y_train.to_numpy(), X_train.to_numpy(), model)"
   ]
  },
  {
   "cell_type": "code",
   "execution_count": 48,
   "metadata": {},
   "outputs": [
    {
     "data": {
      "text/plain": [
       "array([[253, 295],\n",
       "       [ 34, 913]])"
      ]
     },
     "execution_count": 48,
     "metadata": {},
     "output_type": "execute_result"
    }
   ],
   "source": [
    "confusion_matrix(y_test,p_label)"
   ]
  },
  {
   "cell_type": "markdown",
   "metadata": {},
   "source": [
    "The model is overfitting the train data. We will add regularization parameter.For svm_type of nu_svc. We will tune the following hyperparameter\n",
    "* -n nu : set the parameter nu of nu-SVC, one-class SVM, and nu-SVR (default 0.5)"
   ]
  },
  {
   "cell_type": "code",
   "execution_count": 167,
   "metadata": {},
   "outputs": [
    {
     "name": "stdout",
     "output_type": "stream",
     "text": [
      "Accuracy = 78.0602% (1167/1495) (classification)\n",
      "Accuracy = 78.1271% (1168/1495) (classification)\n",
      "Accuracy = 78.0602% (1167/1495) (classification)\n",
      "Accuracy = 78.1271% (1168/1495) (classification)\n",
      "Accuracy = 77.9933% (1166/1495) (classification)\n",
      "Accuracy = 77.592% (1160/1495) (classification)\n"
     ]
    }
   ],
   "source": [
    "nu = np.arange(0.1,0.7,0.1)\n",
    "prob = svm_problem(y_train.to_numpy(),X_train.to_numpy())\n",
    "for id_val, nu_val in enumerate(nu):\n",
    "    prob = svm_problem(y_train.to_numpy(),X_train.to_numpy())\n",
    "    param = svm_parameter()\n",
    "    param.nu = nu_val\n",
    "    param.gamma = 0.2\n",
    "    param.svm_type = 1\n",
    "    param.kernel_type = 2\n",
    "    model = svm_train(prob,param)\n",
    "    p_label,p_acc,p_val = svm_predict(y_test.to_numpy(), X_test.to_numpy(), model)"
   ]
  },
  {
   "cell_type": "code",
   "execution_count": 197,
   "metadata": {},
   "outputs": [
    {
     "name": "stdout",
     "output_type": "stream",
     "text": [
      "Accuracy = 78.1271% (1168/1495) (classification)\n"
     ]
    },
    {
     "data": {
      "text/plain": [
       "1.0    1204\n",
       "0.0     291\n",
       "dtype: int64"
      ]
     },
     "execution_count": 197,
     "metadata": {},
     "output_type": "execute_result"
    }
   ],
   "source": [
    "prob = svm_problem(y_train.to_numpy(),X_train.to_numpy())\n",
    "param = svm_parameter()\n",
    "param.nu = 0.4\n",
    "param.gamma = 0.2\n",
    "param.svm_type = 1\n",
    "param.kernel_type = 2\n",
    "model = svm_train(prob,param)\n",
    "p_label,p_acc,p_val = svm_predict(y_test.to_numpy(), X_test.to_numpy(), model)\n",
    "pd.DataFrame(p_label).value_counts()"
   ]
  },
  {
   "cell_type": "markdown",
   "metadata": {},
   "source": [
    "The accuracy score maximize when nu is set at 0.1 or 0.4."
   ]
  },
  {
   "cell_type": "markdown",
   "metadata": {},
   "source": [
    "For svm_type of C_svc. We will tune the following hyperparameter:\n",
    "* -c cost : set the parameter C of C-SVC, epsilon-SVR, and nu-SVR (default 1)\n",
    "* -wi weight: set the parameter C of class i to weight*C, for C-SVC (default 1)"
   ]
  },
  {
   "cell_type": "code",
   "execution_count": 187,
   "metadata": {},
   "outputs": [
    {
     "name": "stdout",
     "output_type": "stream",
     "text": [
      "Accuracy = 76.9231% (1150/1495) (classification)\n",
      "Accuracy = 76.9231% (1150/1495) (classification)\n",
      "Accuracy = 76.99% (1151/1495) (classification)\n",
      "Accuracy = 76.99% (1151/1495) (classification)\n",
      "Accuracy = 76.99% (1151/1495) (classification)\n",
      "Accuracy = 76.99% (1151/1495) (classification)\n",
      "Accuracy = 76.99% (1151/1495) (classification)\n",
      "Accuracy = 76.99% (1151/1495) (classification)\n",
      "Accuracy = 76.9231% (1150/1495) (classification)\n",
      "Accuracy = 76.9231% (1150/1495) (classification)\n"
     ]
    }
   ],
   "source": [
    "C = np.arange(1,100,10)\n",
    "prob = svm_problem(y_train.to_numpy(),X_train.to_numpy())\n",
    "for id_val, C_val in enumerate(C):\n",
    "    prob = svm_problem(y_train.to_numpy(),X_train.to_numpy())\n",
    "    param = svm_parameter()\n",
    "    # param.cache_size = 40\n",
    "    # param.eps = 0.01\n",
    "    param.C = C_val\n",
    "    # param.nr_weight = 10\n",
    "    # param.shrinking = 1\n",
    "    param.gamma = 0.1\n",
    "    param.svm_type = 0\n",
    "    param.kernel_type = 2\n",
    "    model = svm_train(prob,param)\n",
    "    p_label,p_acc,p_val = svm_predict(y_test.to_numpy(), X_test.to_numpy(), model)\n",
    "# Cost is maximize from 20"
   ]
  },
  {
   "cell_type": "code",
   "execution_count": null,
   "metadata": {},
   "outputs": [],
   "source": [
    "eps = np.arange(0.01,0.1,0.01)\n",
    "prob = svm_problem(y_train.to_numpy(),X_train.to_numpy())\n",
    "for id_val, C_val in enumerate(C):\n",
    "    prob = svm_problem(y_train.to_numpy(),X_train.to_numpy())\n",
    "    param = svm_parameter()\n",
    "    # param.cache_size = 40\n",
    "    # param.eps = 0.01\n",
    "    param.C = C_val\n",
    "    # param.nr_weight = 10\n",
    "    # param.shrinking = 1\n",
    "    param.gamma = 0.1\n",
    "    param.svm_type = 0\n",
    "    param.kernel_type = 2\n",
    "    model = svm_train(prob,param)\n",
    "    p_label,p_acc,p_val = svm_predict(y_test.to_numpy(), X_test.to_numpy(), model)\n",
    "# Cost is maximize from 20"
   ]
  },
  {
   "cell_type": "code",
   "execution_count": 49,
   "metadata": {},
   "outputs": [
    {
     "name": "stdout",
     "output_type": "stream",
     "text": [
      "Accuracy = 77.6589% (1161/1495) (classification)\n"
     ]
    }
   ],
   "source": [
    "prob = svm_problem(y_train.to_numpy(),X_train.to_numpy())\n",
    "param = svm_parameter('-w0 50 -w1 1 -g 0.1 -s 0 -t 2')\n",
    "# param.cache_size = 20\n",
    "# param.eps = 0.01\n",
    "# param.C = 10\n",
    "# param.nr_weight = 10\n",
    "# param.shrinking = 1\n",
    "# param.gamma = 0.1\n",
    "# param.svm_type = 0\n",
    "# param.kernel_type = 2\n",
    "model = svm_train(prob,param)\n",
    "p_label,p_acc,p_val = svm_predict(y_test.to_numpy(), X_test.to_numpy(), model)"
   ]
  },
  {
   "cell_type": "code",
   "execution_count": 50,
   "metadata": {},
   "outputs": [
    {
     "data": {
      "text/plain": [
       "array([[320, 228],\n",
       "       [106, 841]])"
      ]
     },
     "execution_count": 50,
     "metadata": {},
     "output_type": "execute_result"
    }
   ],
   "source": [
    "confusion_matrix(y_test,p_label)"
   ]
  },
  {
   "cell_type": "code",
   "execution_count": null,
   "metadata": {},
   "outputs": [],
   "source": [
    "pd.DataFrame(y_test)"
   ]
  },
  {
   "cell_type": "markdown",
   "metadata": {},
   "source": [
    "# Save Submission"
   ]
  },
  {
   "cell_type": "code",
   "execution_count": 51,
   "metadata": {},
   "outputs": [
    {
     "name": "stdout",
     "output_type": "stream",
     "text": [
      "Accuracy = 13.1967% (322/2440) (classification)\n"
     ]
    }
   ],
   "source": [
    "submission = pd.read_csv(\"Submission/sample_submission.csv\")\n",
    "p_label,p_acc,p_val  = svm_predict(submission[\"Decision\"].to_numpy(), Test_data.to_numpy(),model)"
   ]
  },
  {
   "cell_type": "code",
   "execution_count": 56,
   "metadata": {},
   "outputs": [],
   "source": [
    "prediction = p_label\n",
    "submission[\"Decision\"] = prediction\n",
    "pd.DataFrame(submission).to_csv(\"Optimized_SVC_C.csv\",index=False)"
   ]
  },
  {
   "cell_type": "code",
   "execution_count": 57,
   "metadata": {},
   "outputs": [
    {
     "data": {
      "text/plain": [
       "1.0    2118\n",
       "0.0     322\n",
       "Name: Decision, dtype: int64"
      ]
     },
     "execution_count": 57,
     "metadata": {},
     "output_type": "execute_result"
    }
   ],
   "source": [
    "submission[\"Decision\"].value_counts()"
   ]
  },
  {
   "cell_type": "code",
   "execution_count": null,
   "metadata": {},
   "outputs": [],
   "source": []
  }
 ],
 "metadata": {
  "kernelspec": {
   "display_name": "Python 3",
   "language": "python",
   "name": "python3"
  },
  "language_info": {
   "codemirror_mode": {
    "name": "ipython",
    "version": 3
   },
   "file_extension": ".py",
   "mimetype": "text/x-python",
   "name": "python",
   "nbconvert_exporter": "python",
   "pygments_lexer": "ipython3",
   "version": "3.7.4"
  }
 },
 "nbformat": 4,
 "nbformat_minor": 2
}
