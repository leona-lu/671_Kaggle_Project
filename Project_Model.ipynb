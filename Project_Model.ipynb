{
 "cells": [
  {
   "cell_type": "code",
   "execution_count": 1,
   "metadata": {},
   "outputs": [],
   "source": [
    "# Load Library\n",
    "import math\n",
    "import numpy as np\n",
    "import matplotlib.pyplot as plt\n",
    "import scipy.io as io\n",
    "import sklearn\n",
    "import libsvm\n",
    "from libsvm.svmutil import *\n",
    "import pandas as pd\n",
    "import seaborn as sns\n",
    "\n",
    "%matplotlib inline\n",
    "set.seed(42)"
   ]
  },
  {
   "cell_type": "code",
   "execution_count": 2,
   "metadata": {},
   "outputs": [],
   "source": [
    "# Load Train Data\n",
    "Data = pd.read_csv(\"Train.csv\")\n",
    "Data['Neighbourhood'] = Data['Neighbourhood'].astype(str)\n",
    "Y = Data['Decision']\n",
    "X = Data.drop(['Decision'], axis=1)"
   ]
  },
  {
   "cell_type": "code",
   "execution_count": 3,
   "metadata": {},
   "outputs": [
    {
     "data": {
      "text/html": [
       "<div>\n",
       "<style scoped>\n",
       "    .dataframe tbody tr th:only-of-type {\n",
       "        vertical-align: middle;\n",
       "    }\n",
       "\n",
       "    .dataframe tbody tr th {\n",
       "        vertical-align: top;\n",
       "    }\n",
       "\n",
       "    .dataframe thead th {\n",
       "        text-align: right;\n",
       "    }\n",
       "</style>\n",
       "<table border=\"1\" class=\"dataframe\">\n",
       "  <thead>\n",
       "    <tr style=\"text-align: right;\">\n",
       "      <th></th>\n",
       "      <th>Host_is_superhost</th>\n",
       "      <th>Host_identity_verified</th>\n",
       "      <th>Neighbourhood</th>\n",
       "      <th>Room_type</th>\n",
       "      <th>Accommodates</th>\n",
       "      <th>Essentials</th>\n",
       "      <th>Cooking</th>\n",
       "      <th>Balcony</th>\n",
       "      <th>Parking</th>\n",
       "      <th>Price</th>\n",
       "      <th>Number_of_reviews</th>\n",
       "      <th>Review_scores_rating</th>\n",
       "      <th>Instant_bookable</th>\n",
       "      <th>Month</th>\n",
       "    </tr>\n",
       "  </thead>\n",
       "  <tbody>\n",
       "    <tr>\n",
       "      <td>0</td>\n",
       "      <td>1</td>\n",
       "      <td>1</td>\n",
       "      <td>28806</td>\n",
       "      <td>Private room</td>\n",
       "      <td>1</td>\n",
       "      <td>4</td>\n",
       "      <td>3</td>\n",
       "      <td>1</td>\n",
       "      <td>1</td>\n",
       "      <td>58.0</td>\n",
       "      <td>137</td>\n",
       "      <td>4.85</td>\n",
       "      <td>0</td>\n",
       "      <td>September</td>\n",
       "    </tr>\n",
       "    <tr>\n",
       "      <td>1</td>\n",
       "      <td>1</td>\n",
       "      <td>1</td>\n",
       "      <td>28805</td>\n",
       "      <td>Entire home/apt</td>\n",
       "      <td>2</td>\n",
       "      <td>5</td>\n",
       "      <td>5</td>\n",
       "      <td>1</td>\n",
       "      <td>1</td>\n",
       "      <td>76.0</td>\n",
       "      <td>573</td>\n",
       "      <td>4.93</td>\n",
       "      <td>1</td>\n",
       "      <td>June</td>\n",
       "    </tr>\n",
       "    <tr>\n",
       "      <td>2</td>\n",
       "      <td>1</td>\n",
       "      <td>1</td>\n",
       "      <td>28805</td>\n",
       "      <td>Entire home/apt</td>\n",
       "      <td>2</td>\n",
       "      <td>5</td>\n",
       "      <td>5</td>\n",
       "      <td>1</td>\n",
       "      <td>1</td>\n",
       "      <td>76.0</td>\n",
       "      <td>590</td>\n",
       "      <td>4.93</td>\n",
       "      <td>1</td>\n",
       "      <td>August</td>\n",
       "    </tr>\n",
       "    <tr>\n",
       "      <td>3</td>\n",
       "      <td>1</td>\n",
       "      <td>1</td>\n",
       "      <td>28805</td>\n",
       "      <td>Entire home/apt</td>\n",
       "      <td>2</td>\n",
       "      <td>5</td>\n",
       "      <td>5</td>\n",
       "      <td>1</td>\n",
       "      <td>1</td>\n",
       "      <td>76.0</td>\n",
       "      <td>600</td>\n",
       "      <td>4.93</td>\n",
       "      <td>1</td>\n",
       "      <td>September</td>\n",
       "    </tr>\n",
       "    <tr>\n",
       "      <td>4</td>\n",
       "      <td>1</td>\n",
       "      <td>1</td>\n",
       "      <td>28805</td>\n",
       "      <td>Entire home/apt</td>\n",
       "      <td>2</td>\n",
       "      <td>5</td>\n",
       "      <td>5</td>\n",
       "      <td>1</td>\n",
       "      <td>1</td>\n",
       "      <td>76.0</td>\n",
       "      <td>581</td>\n",
       "      <td>4.93</td>\n",
       "      <td>1</td>\n",
       "      <td>July</td>\n",
       "    </tr>\n",
       "  </tbody>\n",
       "</table>\n",
       "</div>"
      ],
      "text/plain": [
       "   Host_is_superhost  Host_identity_verified Neighbourhood        Room_type  \\\n",
       "0                  1                       1         28806     Private room   \n",
       "1                  1                       1         28805  Entire home/apt   \n",
       "2                  1                       1         28805  Entire home/apt   \n",
       "3                  1                       1         28805  Entire home/apt   \n",
       "4                  1                       1         28805  Entire home/apt   \n",
       "\n",
       "   Accommodates  Essentials  Cooking  Balcony  Parking  Price  \\\n",
       "0             1           4        3        1        1   58.0   \n",
       "1             2           5        5        1        1   76.0   \n",
       "2             2           5        5        1        1   76.0   \n",
       "3             2           5        5        1        1   76.0   \n",
       "4             2           5        5        1        1   76.0   \n",
       "\n",
       "   Number_of_reviews  Review_scores_rating  Instant_bookable      Month  \n",
       "0                137                  4.85                 0  September  \n",
       "1                573                  4.93                 1       June  \n",
       "2                590                  4.93                 1     August  \n",
       "3                600                  4.93                 1  September  \n",
       "4                581                  4.93                 1       July  "
      ]
     },
     "execution_count": 3,
     "metadata": {},
     "output_type": "execute_result"
    }
   ],
   "source": [
    "# Load Test Data\n",
    "Test = pd.read_csv(\"Test.csv\")\n",
    "Test['Neighbourhood'] = Test['Neighbourhood'].astype(str)\n",
    "Test.head()"
   ]
  },
  {
   "cell_type": "markdown",
   "metadata": {},
   "source": [
    "# Regression Analysis\n",
    "## Data Processing "
   ]
  },
  {
   "cell_type": "code",
   "execution_count": 4,
   "metadata": {},
   "outputs": [],
   "source": [
    "def Encode(airbnb):\n",
    "    for column in airbnb.columns[airbnb.columns.isin(['Room_type', 'Month','Neighbourhood'])]:\n",
    "        airbnb[column] = airbnb[column].factorize()[0]\n",
    "    return airbnb\n",
    "\n",
    "X_data = Encode(X.copy())\n",
    "Test_data = Encode(Test.copy())"
   ]
  },
  {
   "cell_type": "code",
   "execution_count": 5,
   "metadata": {},
   "outputs": [
    {
     "data": {
      "text/html": [
       "<div>\n",
       "<style scoped>\n",
       "    .dataframe tbody tr th:only-of-type {\n",
       "        vertical-align: middle;\n",
       "    }\n",
       "\n",
       "    .dataframe tbody tr th {\n",
       "        vertical-align: top;\n",
       "    }\n",
       "\n",
       "    .dataframe thead th {\n",
       "        text-align: right;\n",
       "    }\n",
       "</style>\n",
       "<table border=\"1\" class=\"dataframe\">\n",
       "  <thead>\n",
       "    <tr style=\"text-align: right;\">\n",
       "      <th></th>\n",
       "      <th>Host_is_superhost</th>\n",
       "      <th>Host_identity_verified</th>\n",
       "      <th>Neighbourhood</th>\n",
       "      <th>Room_type</th>\n",
       "      <th>Accommodates</th>\n",
       "      <th>Essentials</th>\n",
       "      <th>Cooking</th>\n",
       "      <th>Balcony</th>\n",
       "      <th>Parking</th>\n",
       "      <th>Price</th>\n",
       "      <th>Number_of_reviews</th>\n",
       "      <th>Review_scores_rating</th>\n",
       "      <th>Instant_bookable</th>\n",
       "      <th>Month</th>\n",
       "    </tr>\n",
       "  </thead>\n",
       "  <tbody>\n",
       "    <tr>\n",
       "      <td>0</td>\n",
       "      <td>1</td>\n",
       "      <td>1</td>\n",
       "      <td>0</td>\n",
       "      <td>0</td>\n",
       "      <td>1</td>\n",
       "      <td>4</td>\n",
       "      <td>3</td>\n",
       "      <td>1</td>\n",
       "      <td>1</td>\n",
       "      <td>58.0</td>\n",
       "      <td>137</td>\n",
       "      <td>4.85</td>\n",
       "      <td>0</td>\n",
       "      <td>0</td>\n",
       "    </tr>\n",
       "    <tr>\n",
       "      <td>1</td>\n",
       "      <td>1</td>\n",
       "      <td>1</td>\n",
       "      <td>1</td>\n",
       "      <td>1</td>\n",
       "      <td>2</td>\n",
       "      <td>5</td>\n",
       "      <td>5</td>\n",
       "      <td>1</td>\n",
       "      <td>1</td>\n",
       "      <td>76.0</td>\n",
       "      <td>573</td>\n",
       "      <td>4.93</td>\n",
       "      <td>1</td>\n",
       "      <td>1</td>\n",
       "    </tr>\n",
       "    <tr>\n",
       "      <td>2</td>\n",
       "      <td>1</td>\n",
       "      <td>1</td>\n",
       "      <td>1</td>\n",
       "      <td>1</td>\n",
       "      <td>2</td>\n",
       "      <td>5</td>\n",
       "      <td>5</td>\n",
       "      <td>1</td>\n",
       "      <td>1</td>\n",
       "      <td>76.0</td>\n",
       "      <td>590</td>\n",
       "      <td>4.93</td>\n",
       "      <td>1</td>\n",
       "      <td>2</td>\n",
       "    </tr>\n",
       "    <tr>\n",
       "      <td>3</td>\n",
       "      <td>1</td>\n",
       "      <td>1</td>\n",
       "      <td>1</td>\n",
       "      <td>1</td>\n",
       "      <td>2</td>\n",
       "      <td>5</td>\n",
       "      <td>5</td>\n",
       "      <td>1</td>\n",
       "      <td>1</td>\n",
       "      <td>76.0</td>\n",
       "      <td>600</td>\n",
       "      <td>4.93</td>\n",
       "      <td>1</td>\n",
       "      <td>0</td>\n",
       "    </tr>\n",
       "    <tr>\n",
       "      <td>4</td>\n",
       "      <td>1</td>\n",
       "      <td>1</td>\n",
       "      <td>1</td>\n",
       "      <td>1</td>\n",
       "      <td>2</td>\n",
       "      <td>5</td>\n",
       "      <td>5</td>\n",
       "      <td>1</td>\n",
       "      <td>1</td>\n",
       "      <td>76.0</td>\n",
       "      <td>581</td>\n",
       "      <td>4.93</td>\n",
       "      <td>1</td>\n",
       "      <td>3</td>\n",
       "    </tr>\n",
       "  </tbody>\n",
       "</table>\n",
       "</div>"
      ],
      "text/plain": [
       "   Host_is_superhost  Host_identity_verified  Neighbourhood  Room_type  \\\n",
       "0                  1                       1              0          0   \n",
       "1                  1                       1              1          1   \n",
       "2                  1                       1              1          1   \n",
       "3                  1                       1              1          1   \n",
       "4                  1                       1              1          1   \n",
       "\n",
       "   Accommodates  Essentials  Cooking  Balcony  Parking  Price  \\\n",
       "0             1           4        3        1        1   58.0   \n",
       "1             2           5        5        1        1   76.0   \n",
       "2             2           5        5        1        1   76.0   \n",
       "3             2           5        5        1        1   76.0   \n",
       "4             2           5        5        1        1   76.0   \n",
       "\n",
       "   Number_of_reviews  Review_scores_rating  Instant_bookable  Month  \n",
       "0                137                  4.85                 0      0  \n",
       "1                573                  4.93                 1      1  \n",
       "2                590                  4.93                 1      2  \n",
       "3                600                  4.93                 1      0  \n",
       "4                581                  4.93                 1      3  "
      ]
     },
     "execution_count": 5,
     "metadata": {},
     "output_type": "execute_result"
    }
   ],
   "source": [
    "Test_data.head()"
   ]
  },
  {
   "cell_type": "markdown",
   "metadata": {},
   "source": [
    "## Base Model"
   ]
  },
  {
   "cell_type": "code",
   "execution_count": 6,
   "metadata": {},
   "outputs": [],
   "source": [
    "# Split Data: 20% Test, 80% Train\n",
    "from sklearn.model_selection import train_test_split\n",
    "X_train, X_test, y_train, y_test = train_test_split(X_data,Y, test_size=0.2, random_state=1)"
   ]
  },
  {
   "cell_type": "code",
   "execution_count": 7,
   "metadata": {},
   "outputs": [
    {
     "data": {
      "image/png": "[encoded data removed]",
      "text/plain": [
       "<Figure size 432x288 with 1 Axes>"
      ]
     },
     "metadata": {
      "needs_background": "light"
     },
     "output_type": "display_data"
    },
    {
     "name": "stdout",
     "output_type": "stream",
     "text": [
      "the accuracy score is 0.6682274247491639\n"
     ]
    }
   ],
   "source": [
    "from sklearn.model_selection import KFold\n",
    "from sklearn.model_selection import cross_val_score\n",
    "from sklearn.linear_model import LogisticRegression\n",
    "from matplotlib import pyplot\n",
    "from scipy.stats import sem\n",
    "from numpy import mean\n",
    "from numpy import std\n",
    "import sklearn.metrics as metrics\n",
    "from sklearn.metrics import accuracy_score\n",
    "\n",
    "\n",
    "# generate a no skill prediction (majority class)\n",
    "ns_probs = [0 for _ in range(len(y_test))]\n",
    "# define model\n",
    "model = LogisticRegression(solver='liblinear',max_iter=1000)\n",
    "# fit a model\n",
    "model.fit(X_train, y_train)\n",
    "# predict probabilities\n",
    "lr_probs = model.predict_proba(X_test)\n",
    "# keep probabilities for the positive outcome only\n",
    "lr_probs = lr_probs[:, 1]\n",
    "fpr, tpr, threshold = metrics.roc_curve(y_test,lr_probs)\n",
    "roc_auc = metrics.auc(fpr, tpr)\n",
    "\n",
    "# plot\n",
    "plt.title('ROC Curve')\n",
    "plt.plot(fpr, tpr, 'b', label = 'AUC = %0.2f' % roc_auc)\n",
    "plt.legend(loc = 'lower right')\n",
    "plt.plot([0, 1], [0, 1],'r--')\n",
    "plt.xlim([0, 1])\n",
    "plt.ylim([0, 1])\n",
    "plt.ylabel('True Positive Rate')\n",
    "plt.xlabel('False Positive Rate')\n",
    "plt.show()\n",
    "prediction = model.predict(X_test)\n",
    "print('the accuracy score is',accuracy_score(y_test, prediction))"
   ]
  },
  {
   "cell_type": "markdown",
   "metadata": {},
   "source": [
    "## Optimization Using GridSearchCV"
   ]
  },
  {
   "cell_type": "code",
   "execution_count": 9,
   "metadata": {},
   "outputs": [
    {
     "name": "stdout",
     "output_type": "stream",
     "text": [
      "(array([0, 1]), array([548, 947]))\n",
      "              precision    recall  f1-score   support\n",
      "\n",
      "           0       0.58      0.34      0.43       548\n",
      "           1       0.69      0.86      0.77       947\n",
      "\n",
      "    accuracy                           0.67      1495\n",
      "   macro avg       0.64      0.60      0.60      1495\n",
      "weighted avg       0.65      0.67      0.64      1495\n",
      "\n",
      "(array([0, 1]), array([548, 947]))\n",
      "              precision    recall  f1-score   support\n",
      "\n",
      "           0       0.58      0.34      0.43       548\n",
      "           1       0.69      0.86      0.77       947\n",
      "\n",
      "    accuracy                           0.67      1495\n",
      "   macro avg       0.64      0.60      0.60      1495\n",
      "weighted avg       0.65      0.67      0.64      1495\n",
      "\n",
      "(array([0, 1]), array([548, 947]))\n",
      "              precision    recall  f1-score   support\n",
      "\n",
      "           0       0.58      0.34      0.43       548\n",
      "           1       0.69      0.86      0.77       947\n",
      "\n",
      "    accuracy                           0.67      1495\n",
      "   macro avg       0.64      0.60      0.60      1495\n",
      "weighted avg       0.65      0.67      0.64      1495\n",
      "\n",
      "(array([0, 1]), array([548, 947]))\n",
      "              precision    recall  f1-score   support\n",
      "\n",
      "           0       0.58      0.34      0.43       548\n",
      "           1       0.69      0.86      0.77       947\n",
      "\n",
      "    accuracy                           0.67      1495\n",
      "   macro avg       0.64      0.60      0.60      1495\n",
      "weighted avg       0.65      0.67      0.64      1495\n",
      "\n",
      "(array([0, 1]), array([548, 947]))\n",
      "              precision    recall  f1-score   support\n",
      "\n",
      "           0       0.58      0.34      0.43       548\n",
      "           1       0.69      0.86      0.77       947\n",
      "\n",
      "    accuracy                           0.67      1495\n",
      "   macro avg       0.64      0.60      0.60      1495\n",
      "weighted avg       0.65      0.67      0.64      1495\n",
      "\n",
      "Tuned scores: [0.66622074 0.68406961 0.67402945 0.65461847 0.66331995]\n",
      "Best parameters: {'C': 7.742636826811269, 'penalty': 'l1', 'solver': 'liblinear'}\n"
     ]
    }
   ],
   "source": [
    "from sklearn.pipeline import Pipeline\n",
    "from sklearn.ensemble import RandomForestClassifier\n",
    "from sklearn.model_selection import GridSearchCV\n",
    "from sklearn.metrics import classification_report\n",
    "\n",
    "\n",
    "# K fold CV\n",
    "kf = KFold(n_splits=5, shuffle=True, random_state=42)\n",
    "for train_index, test_index in kf.split(X):\n",
    "    model = LogisticRegression(max_iter=1000)\n",
    "    \n",
    "\n",
    "    print(np.unique(y_test, return_counts=True))\n",
    "\n",
    "    model.fit(X_train, y_train)\n",
    "    report = classification_report(y_test, model.predict(X_test))\n",
    "    print(report)\n",
    "\n",
    "# Hyperparameter Space\n",
    "## solver space \n",
    "solver = ['liblinear']\n",
    "## Penalty space\n",
    "penalty = ['l1', 'l2']\n",
    "## Regularization hyperparameter space\n",
    "C = np.logspace(0, 4, 10)\n",
    "hyperparameters = dict(C=C, penalty=penalty,solver = solver)\n",
    "\n",
    "model = LogisticRegression(max_iter=1000)\n",
    "grid_search = GridSearchCV(model, hyperparameters, cv=5, verbose=0)\n",
    "\n",
    "grid_search.fit(X_data, Y)\n",
    "best_model = grid_search.best_estimator_\n",
    "cv_scores = cross_val_score(best_model, X_data, Y)\n",
    "print('Tuned scores:', cv_scores)\n",
    "print('Best parameters:', grid_search.best_params_)"
   ]
  },
  {
   "cell_type": "code",
   "execution_count": 10,
   "metadata": {},
   "outputs": [
    {
     "data": {
      "image/png": "[encoded data removed]",
      "text/plain": [
       "<Figure size 432x288 with 1 Axes>"
      ]
     },
     "metadata": {
      "needs_background": "light"
     },
     "output_type": "display_data"
    },
    {
     "name": "stdout",
     "output_type": "stream",
     "text": [
      "the accuracy score is 0.6662207357859532\n"
     ]
    }
   ],
   "source": [
    "# generate a no skill prediction (majority class)\n",
    "ns_probs = [0 for _ in range(len(y_test))]\n",
    "# define model\n",
    "model = LogisticRegression(penalty='l2',solver='liblinear', C = 742636826811269, max_iter=1000)\n",
    "# fit a model\n",
    "model.fit(X_train, y_train)\n",
    "# predict probabilities\n",
    "lr_probs = model.predict_proba(X_test)\n",
    "# keep probabilities for the positive outcome only\n",
    "lr_probs = lr_probs[:, 1]\n",
    "fpr, tpr, threshold = metrics.roc_curve(y_test,lr_probs)\n",
    "roc_auc = metrics.auc(fpr, tpr)\n",
    "\n",
    "# plot\n",
    "plt.title('ROC Curve')\n",
    "plt.plot(fpr, tpr, 'b', label = 'AUC = %0.2f' % roc_auc)\n",
    "plt.legend(loc = 'lower right')\n",
    "plt.plot([0, 1], [0, 1],'r--')\n",
    "plt.xlim([0, 1])\n",
    "plt.ylim([0, 1])\n",
    "plt.ylabel('True Positive Rate')\n",
    "plt.xlabel('False Positive Rate')\n",
    "plt.show()\n",
    "prediction = model.predict(X_test)\n",
    "print('the accuracy score is',accuracy_score(y_test, prediction))"
   ]
  },
  {
   "cell_type": "markdown",
   "metadata": {},
   "source": [
    "# Decision Tree\n",
    "## Base Model "
   ]
  },
  {
   "cell_type": "code",
   "execution_count": 12,
   "metadata": {},
   "outputs": [
    {
     "name": "stdout",
     "output_type": "stream",
     "text": [
      "the accuracy score is 0.7491638795986622\n"
     ]
    }
   ],
   "source": [
    "from sklearn import tree\n",
    "from sklearn.tree import DecisionTreeRegressor\n",
    "\n",
    "cart_tree = tree.DecisionTreeClassifier(criterion='gini', random_state=42)\n",
    "cart_tree.fit(X_train,y_train)\n",
    "prediction = cart_tree.predict(X_test)\n",
    "print('the accuracy score is',accuracy_score(y_test, prediction))"
   ]
  },
  {
   "cell_type": "code",
   "execution_count": 13,
   "metadata": {},
   "outputs": [
    {
     "data": {
      "image/png": "[encoded data removed]",
      "text/plain": [
       "<Figure size 432x288 with 1 Axes>"
      ]
     },
     "metadata": {
      "needs_background": "light"
     },
     "output_type": "display_data"
    },
    {
     "name": "stdout",
     "output_type": "stream",
     "text": [
      "the accuracy score is 0.7491638795986622\n"
     ]
    }
   ],
   "source": [
    "# generate a no skill prediction (majority class)\n",
    "ns_probs = [0 for _ in range(len(y_test))]\n",
    "# define model\n",
    "model = tree.DecisionTreeClassifier(criterion='gini', random_state=42)\n",
    "# fit a model\n",
    "model.fit(X_train, y_train)\n",
    "# predict probabilities\n",
    "lr_probs = model.predict_proba(X_test)\n",
    "# keep probabilities for the positive outcome only\n",
    "lr_probs = lr_probs[:, 1]\n",
    "fpr, tpr, threshold = metrics.roc_curve(y_test,lr_probs)\n",
    "roc_auc = metrics.auc(fpr, tpr)\n",
    "\n",
    "# plot\n",
    "plt.title('ROC Curve')\n",
    "plt.plot(fpr, tpr, 'b', label = 'AUC = %0.2f' % roc_auc)\n",
    "plt.legend(loc = 'lower right')\n",
    "plt.plot([0, 1], [0, 1],'r--')\n",
    "plt.xlim([0, 1])\n",
    "plt.ylim([0, 1])\n",
    "plt.ylabel('True Positive Rate')\n",
    "plt.xlabel('False Positive Rate')\n",
    "plt.show()\n",
    "prediction = model.predict(X_test)\n",
    "print('the accuracy score is',accuracy_score(y_test, prediction))"
   ]
  },
  {
   "cell_type": "code",
   "execution_count": 14,
   "metadata": {},
   "outputs": [],
   "source": [
    "submission = pd.read_csv(\"sample_submission.csv\")\n",
    "submission['Decision'] = cart_tree.predict(Test_data)\n",
    "pd.DataFrame(submission).to_csv(\"prediction_Decision_Tree.csv\",index=False)"
   ]
  },
  {
   "cell_type": "markdown",
   "metadata": {},
   "source": [
    "## Improve Model Using GridSearchCV"
   ]
  },
  {
   "cell_type": "code",
   "execution_count": 15,
   "metadata": {},
   "outputs": [
    {
     "name": "stdout",
     "output_type": "stream",
     "text": [
      "(array([0, 1]), array([548, 947]))\n",
      "              precision    recall  f1-score   support\n",
      "\n",
      "           0       0.61      0.31      0.41       548\n",
      "           1       0.69      0.88      0.78       947\n",
      "\n",
      "    accuracy                           0.67      1495\n",
      "   macro avg       0.65      0.60      0.59      1495\n",
      "weighted avg       0.66      0.67      0.64      1495\n",
      "\n",
      "(array([0, 1]), array([548, 947]))\n",
      "              precision    recall  f1-score   support\n",
      "\n",
      "           0       0.61      0.31      0.41       548\n",
      "           1       0.69      0.88      0.78       947\n",
      "\n",
      "    accuracy                           0.67      1495\n",
      "   macro avg       0.65      0.60      0.59      1495\n",
      "weighted avg       0.66      0.67      0.64      1495\n",
      "\n",
      "(array([0, 1]), array([548, 947]))\n",
      "              precision    recall  f1-score   support\n",
      "\n",
      "           0       0.61      0.31      0.41       548\n",
      "           1       0.69      0.88      0.78       947\n",
      "\n",
      "    accuracy                           0.67      1495\n",
      "   macro avg       0.65      0.60      0.59      1495\n",
      "weighted avg       0.66      0.67      0.64      1495\n",
      "\n",
      "(array([0, 1]), array([548, 947]))\n",
      "              precision    recall  f1-score   support\n",
      "\n",
      "           0       0.61      0.31      0.41       548\n",
      "           1       0.69      0.88      0.78       947\n",
      "\n",
      "    accuracy                           0.67      1495\n",
      "   macro avg       0.65      0.60      0.59      1495\n",
      "weighted avg       0.66      0.67      0.64      1495\n",
      "\n",
      "(array([0, 1]), array([548, 947]))\n",
      "              precision    recall  f1-score   support\n",
      "\n",
      "           0       0.61      0.31      0.41       548\n",
      "           1       0.69      0.88      0.78       947\n",
      "\n",
      "    accuracy                           0.67      1495\n",
      "   macro avg       0.65      0.60      0.59      1495\n",
      "weighted avg       0.66      0.67      0.64      1495\n",
      "\n",
      "Tuned scores: [0.66755853 0.6746988  0.66666667 0.66064257 0.68273092]\n",
      "Best parameters: {'max_depth': 5, 'max_features': 4}\n"
     ]
    }
   ],
   "source": [
    "from sklearn import tree\n",
    "from sklearn.model_selection import KFold\n",
    "from sklearn.metrics import classification_report\n",
    "from sklearn.model_selection import GridSearchCV, cross_val_score\n",
    "import numpy as np\n",
    "\n",
    "# K fold CV\n",
    "kf = KFold(n_splits=5, shuffle=True, random_state=42)\n",
    "for train_index, test_index in kf.split(X):\n",
    "\n",
    "    cart_tree = tree.DecisionTreeClassifier(max_depth = 3, criterion='gini', random_state=42)\n",
    "\n",
    "    print(np.unique(y_test, return_counts=True))\n",
    "\n",
    "    cart_tree.fit(X_train, y_train)\n",
    "    report = classification_report(y_test, cart_tree.predict(X_test))\n",
    "    print(report)\n",
    "\n",
    "# parameter tuning with gridsearchCV\n",
    "\n",
    "parameter_grid = {\n",
    "    'max_depth': [1, 2, 3, 4, 5],\n",
    "    'max_features': [1, 2, 3, 4]\n",
    "}\n",
    "\n",
    "cart_tree = tree.DecisionTreeClassifier(criterion='gini', random_state=42)\n",
    "grid_search = GridSearchCV(cart_tree, param_grid=parameter_grid, cv=kf, refit=True)\n",
    "\n",
    "grid_search.fit(X_data, Y)\n",
    "best_tree = grid_search.best_estimator_\n",
    "cv_scores = cross_val_score(best_tree, X_data, Y)\n",
    "print('Tuned scores:', cv_scores)\n",
    "print('Best parameters:', grid_search.best_params_)"
   ]
  },
  {
   "cell_type": "code",
   "execution_count": 16,
   "metadata": {},
   "outputs": [
    {
     "name": "stdout",
     "output_type": "stream",
     "text": [
      "the accuracy score is 0.6729096989966555\n"
     ]
    }
   ],
   "source": [
    "# Best parameters: {'max_depth': 5, 'max_features': 4}\n",
    "cart_tree = tree.DecisionTreeClassifier(criterion='gini', random_state=42, max_depth = 5, max_features = 4)\n",
    "cart_tree.fit(X_train,y_train)\n",
    "prediction = cart_tree.predict(X_test)\n",
    "print('the accuracy score is',accuracy_score(y_test, prediction))"
   ]
  },
  {
   "cell_type": "code",
   "execution_count": 17,
   "metadata": {},
   "outputs": [
    {
     "data": {
      "image/png": "[encoded data removed]",
      "text/plain": [
       "<Figure size 432x288 with 1 Axes>"
      ]
     },
     "metadata": {
      "needs_background": "light"
     },
     "output_type": "display_data"
    },
    {
     "name": "stdout",
     "output_type": "stream",
     "text": [
      "the accuracy score is 0.6729096989966555\n"
     ]
    }
   ],
   "source": [
    "# generate a no skill prediction (majority class)\n",
    "ns_probs = [0 for _ in range(len(y_test))]\n",
    "# define model\n",
    "model = tree.DecisionTreeClassifier(criterion='gini', random_state=42, max_depth = 5, max_features = 4)\n",
    "# fit a model\n",
    "model.fit(X_train, y_train)\n",
    "# predict probabilities\n",
    "lr_probs = model.predict_proba(X_test)\n",
    "# keep probabilities for the positive outcome only\n",
    "lr_probs = lr_probs[:, 1]\n",
    "fpr, tpr, threshold = metrics.roc_curve(y_test,lr_probs)\n",
    "roc_auc = metrics.auc(fpr, tpr)\n",
    "\n",
    "# plot\n",
    "plt.title('ROC Curve')\n",
    "plt.plot(fpr, tpr, 'b', label = 'AUC = %0.2f' % roc_auc)\n",
    "plt.legend(loc = 'lower right')\n",
    "plt.plot([0, 1], [0, 1],'r--')\n",
    "plt.xlim([0, 1])\n",
    "plt.ylim([0, 1])\n",
    "plt.ylabel('True Positive Rate')\n",
    "plt.xlabel('False Positive Rate')\n",
    "plt.show()\n",
    "prediction = model.predict(X_test)\n",
    "print('the accuracy score is',accuracy_score(y_test, prediction))"
   ]
  },
  {
   "cell_type": "code",
   "execution_count": 18,
   "metadata": {},
   "outputs": [],
   "source": [
    "submission = pd.read_csv(\"sample_submission.csv\")\n",
    "submission['Decision'] = cart_tree.predict(Test_data)\n",
    "pd.DataFrame(submission).to_csv(\"improved_prediction_Decision_Tree.csv\",index=False)"
   ]
  },
  {
   "cell_type": "markdown",
   "metadata": {},
   "source": [
    "# KNN\n",
    "## Base Model"
   ]
  },
  {
   "cell_type": "code",
   "execution_count": 19,
   "metadata": {},
   "outputs": [
    {
     "data": {
      "text/plain": [
       "KNeighborsClassifier()"
      ]
     },
     "execution_count": 19,
     "metadata": {},
     "output_type": "execute_result"
    }
   ],
   "source": [
    "from sklearn.neighbors import KNeighborsClassifier\n",
    "classifier = KNeighborsClassifier(n_neighbors=5)\n",
    "classifier.fit(X_train, y_train)\n",
    "y_pred = classifier.predict(X_test)"
   ]
  },
  {
   "cell_type": "code",
   "execution_count": 37,
   "metadata": {},
   "outputs": [
    {
     "name": "stdout",
     "output_type": "stream",
     "text": [
      "[[192 356]\n",
      " [152 795]]\n",
      "              precision    recall  f1-score   support\n",
      "\n",
      "           0       0.56      0.35      0.43       548\n",
      "           1       0.69      0.84      0.76       947\n",
      "\n",
      "    accuracy                           0.66      1495\n",
      "   macro avg       0.62      0.59      0.59      1495\n",
      "weighted avg       0.64      0.66      0.64      1495\n",
      "\n",
      "the accuracy score is 0.6602006688963211\n"
     ]
    }
   ],
   "source": [
    "from sklearn.metrics import confusion_matrix\n",
    "print(confusion_matrix(y_test, y_pred))\n",
    "print(classification_report(y_test, y_pred))\n",
    "print('the accuracy score is',accuracy_score(y_test, y_pred))"
   ]
  },
  {
   "cell_type": "markdown",
   "metadata": {},
   "source": [
    "## Optimize and tune value of K"
   ]
  },
  {
   "cell_type": "code",
   "execution_count": 33,
   "metadata": {},
   "outputs": [
    {
     "data": {
      "text/plain": [
       "[<matplotlib.lines.Line2D at 0x7fb4c6bbbe90>]"
      ]
     },
     "execution_count": 33,
     "metadata": {},
     "output_type": "execute_result"
    },
    {
     "data": {
      "image/png": "[encoded data removed]",
      "text/plain": [
       "<Figure size 864x432 with 1 Axes>"
      ]
     },
     "metadata": {
      "needs_background": "light"
     },
     "output_type": "display_data"
    }
   ],
   "source": [
    "error = []\n",
    "\n",
    "# Calculating error for K values between 1 and 40\n",
    "for i in range(1, 40):\n",
    "    knn = KNeighborsClassifier(n_neighbors=i)\n",
    "    knn.fit(X_train, y_train)\n",
    "    pred_i = knn.predict(X_test)\n",
    "    error.append(np.mean(pred_i != y_test))\n",
    "    \n",
    "plt.figure(figsize=(12, 6))\n",
    "plt.title('Error Rate K Value')\n",
    "plt.xlabel('K Value')\n",
    "plt.ylabel('Mean Error')\n",
    "plt.plot(range(1, 40), error,linestyle='dashed')"
   ]
  },
  {
   "cell_type": "code",
   "execution_count": 34,
   "metadata": {},
   "outputs": [],
   "source": [
    "from sklearn.neighbors import KNeighborsClassifier\n",
    "classifier = KNeighborsClassifier(n_neighbors=20)\n",
    "classifier.fit(X_train, y_train)\n",
    "y_pred = classifier.predict(X_test)"
   ]
  },
  {
   "cell_type": "code",
   "execution_count": 36,
   "metadata": {},
   "outputs": [
    {
     "name": "stdout",
     "output_type": "stream",
     "text": [
      "[[192 356]\n",
      " [152 795]]\n",
      "              precision    recall  f1-score   support\n",
      "\n",
      "           0       0.56      0.35      0.43       548\n",
      "           1       0.69      0.84      0.76       947\n",
      "\n",
      "    accuracy                           0.66      1495\n",
      "   macro avg       0.62      0.59      0.59      1495\n",
      "weighted avg       0.64      0.66      0.64      1495\n",
      "\n",
      "the accuracy score is 0.6602006688963211\n"
     ]
    }
   ],
   "source": [
    "from sklearn.metrics import confusion_matrix\n",
    "print(confusion_matrix(y_test, y_pred))\n",
    "print(classification_report(y_test, y_pred))\n",
    "print('the accuracy score is',accuracy_score(y_test, y_pred))"
   ]
  },
  {
   "cell_type": "code",
   "execution_count": 38,
   "metadata": {},
   "outputs": [],
   "source": [
    "submission = pd.read_csv(\"sample_submission.csv\")\n",
    "submission['Decision'] = classifier.predict(Test_data) \n",
    "pd.DataFrame(submission).to_csv(\"KNN_Submission.csv\",index=False)"
   ]
  },
  {
   "cell_type": "markdown",
   "metadata": {},
   "source": [
    "# Adaboost\n",
    "## Base Model: Decision Tree Classifier"
   ]
  },
  {
   "cell_type": "code",
   "execution_count": 147,
   "metadata": {},
   "outputs": [],
   "source": [
    "# AdaBoost uses Decision Tree Classifier as default Classifier.\n",
    "from sklearn.ensemble import AdaBoostClassifier\n",
    "abc = AdaBoostClassifier(n_estimators=50,learning_rate=1)\n",
    "model = abc.fit(X_train, y_train)\n",
    "y_pred = model.predict(X_test)"
   ]
  },
  {
   "cell_type": "code",
   "execution_count": 148,
   "metadata": {},
   "outputs": [
    {
     "name": "stdout",
     "output_type": "stream",
     "text": [
      "[[216 332]\n",
      " [135 812]]\n",
      "              precision    recall  f1-score   support\n",
      "\n",
      "           0       0.62      0.39      0.48       548\n",
      "           1       0.71      0.86      0.78       947\n",
      "\n",
      "    accuracy                           0.69      1495\n",
      "   macro avg       0.66      0.63      0.63      1495\n",
      "weighted avg       0.68      0.69      0.67      1495\n",
      "\n",
      "the accuracy score is 0.6876254180602007\n"
     ]
    }
   ],
   "source": [
    "print(confusion_matrix(y_test, y_pred))\n",
    "print(classification_report(y_test, y_pred))\n",
    "print('the accuracy score is',accuracy_score(y_test, y_pred))"
   ]
  },
  {
   "cell_type": "markdown",
   "metadata": {},
   "source": [
    "## SVC\n",
    "### Sigmoid Kernel"
   ]
  },
  {
   "cell_type": "code",
   "execution_count": 152,
   "metadata": {},
   "outputs": [],
   "source": [
    "from sklearn.svm import SVC\n",
    "svc=SVC(probability=True, kernel='sigmoid')\n",
    "# Create adaboost classifer object\n",
    "abc =AdaBoostClassifier(n_estimators=5, base_estimator=svc,learning_rate=1)\n",
    "# Train Adaboost Classifer\n",
    "model = abc.fit(X_train, y_train)\n",
    "#Predict the response for test dataset\n",
    "y_pred = model.predict(X_test)"
   ]
  },
  {
   "cell_type": "code",
   "execution_count": 164,
   "metadata": {},
   "outputs": [
    {
     "name": "stdout",
     "output_type": "stream",
     "text": [
      "[[  0 548]\n",
      " [  0 947]]\n",
      "              precision    recall  f1-score   support\n",
      "\n",
      "           0       0.00      0.00      0.00       548\n",
      "           1       0.63      1.00      0.78       947\n",
      "\n",
      "    accuracy                           0.63      1495\n",
      "   macro avg       0.32      0.50      0.39      1495\n",
      "weighted avg       0.40      0.63      0.49      1495\n",
      "\n",
      "the accuracy score is 0.6334448160535117\n"
     ]
    }
   ],
   "source": [
    "print(confusion_matrix(y_test, y_pred))\n",
    "print(classification_report(y_test, y_pred, zero_division=0))\n",
    "print('the accuracy score is',accuracy_score(y_test, y_pred))"
   ]
  },
  {
   "cell_type": "markdown",
   "metadata": {},
   "source": [
    "### RBF Kernel: Base Case"
   ]
  },
  {
   "cell_type": "code",
   "execution_count": 165,
   "metadata": {},
   "outputs": [],
   "source": [
    "from sklearn.svm import SVC\n",
    "svc=SVC(probability=True, kernel='rbf')\n",
    "# Create adaboost classifer object\n",
    "abc =AdaBoostClassifier(n_estimators=5, base_estimator=svc,learning_rate=1)\n",
    "# Train Adaboost Classifer\n",
    "model = abc.fit(X_train, y_train)\n",
    "#Predict the response for test dataset\n",
    "y_pred = model.predict(X_test)"
   ]
  },
  {
   "cell_type": "code",
   "execution_count": 167,
   "metadata": {},
   "outputs": [
    {
     "name": "stdout",
     "output_type": "stream",
     "text": [
      "[[  0 548]\n",
      " [  0 947]]\n",
      "              precision    recall  f1-score   support\n",
      "\n",
      "           0       0.00      0.00      0.00       548\n",
      "           1       0.63      1.00      0.78       947\n",
      "\n",
      "    accuracy                           0.63      1495\n",
      "   macro avg       0.32      0.50      0.39      1495\n",
      "weighted avg       0.40      0.63      0.49      1495\n",
      "\n",
      "the accuracy score is 0.6334448160535117\n"
     ]
    }
   ],
   "source": [
    "print(confusion_matrix(y_test, y_pred))\n",
    "print(classification_report(y_test, y_pred, zero_division=0))\n",
    "print('the accuracy score is',accuracy_score(y_test, y_pred))"
   ]
  },
  {
   "cell_type": "markdown",
   "metadata": {},
   "source": [
    "### Optimization Using GridSearchCV"
   ]
  },
  {
   "cell_type": "code",
   "execution_count": null,
   "metadata": {},
   "outputs": [],
   "source": [
    "from sklearn.model_selection import StratifiedShuffleSplit\n",
    "\n",
    "model = SVC()\n",
    "C_range = np.logspace(-2, 10, 13)\n",
    "gamma_range = np.logspace(-9, 3, 13)\n",
    "param_grid = dict(gamma=gamma_range, C=C_range)\n",
    "cv = StratifiedShuffleSplit(n_splits=5, test_size=0.2, random_state=42)\n",
    "grid = GridSearchCV(model, param_grid=param_grid, cv=cv)\n",
    "grid.fit(X_train, y_train)\n",
    "\n",
    "print(\n",
    "    \"The best parameters are %s with a score of %0.2f\"\n",
    "    % (grid.best_params_, grid.best_score_)\n",
    ")"
   ]
  },
  {
   "cell_type": "markdown",
   "metadata": {},
   "source": [
    "# XGBoost"
   ]
  },
  {
   "cell_type": "code",
   "execution_count": 137,
   "metadata": {},
   "outputs": [],
   "source": [
    "import xgboost as xgb"
   ]
  },
  {
   "cell_type": "code",
   "execution_count": 138,
   "metadata": {},
   "outputs": [],
   "source": [
    "dtrain = xgb.DMatrix(X_train, label=y_train.values)\n",
    "dtest = xgb.DMatrix(X_test, label=y_test.values)"
   ]
  },
  {
   "cell_type": "code",
   "execution_count": 139,
   "metadata": {},
   "outputs": [],
   "source": [
    "param = {'max_depth': 2, 'eta': 1, 'objective': 'binary:logistic'}\n",
    "param['nthread'] = 4\n",
    "param['eval_metric'] = 'auc'\n",
    "evallist = [(dtest, 'eval'), (dtrain, 'train')]"
   ]
  },
  {
   "cell_type": "code",
   "execution_count": 140,
   "metadata": {},
   "outputs": [
    {
     "name": "stdout",
     "output_type": "stream",
     "text": [
      "[0]\teval-auc:0.644975\ttrain-auc:0.642677\n",
      "[1]\teval-auc:0.646843\ttrain-auc:0.663158\n",
      "[2]\teval-auc:0.669924\ttrain-auc:0.691616\n",
      "[3]\teval-auc:0.671116\ttrain-auc:0.709424\n",
      "[4]\teval-auc:0.676613\ttrain-auc:0.720041\n",
      "[5]\teval-auc:0.682276\ttrain-auc:0.725852\n",
      "[6]\teval-auc:0.691853\ttrain-auc:0.731057\n",
      "[7]\teval-auc:0.696434\ttrain-auc:0.735991\n",
      "[8]\teval-auc:0.696751\ttrain-auc:0.738127\n",
      "[9]\teval-auc:0.704792\ttrain-auc:0.74208\n"
     ]
    }
   ],
   "source": [
    "num_round = 10\n",
    "bst = xgb.train(param, dtrain, num_round, evallist)"
   ]
  },
  {
   "cell_type": "code",
   "execution_count": 141,
   "metadata": {},
   "outputs": [
    {
     "name": "stdout",
     "output_type": "stream",
     "text": [
      "[[178 370]\n",
      " [103 844]]\n",
      "              precision    recall  f1-score   support\n",
      "\n",
      "           0       0.63      0.32      0.43       548\n",
      "           1       0.70      0.89      0.78       947\n",
      "\n",
      "    accuracy                           0.68      1495\n",
      "   macro avg       0.66      0.61      0.61      1495\n",
      "weighted avg       0.67      0.68      0.65      1495\n",
      "\n",
      "the accuracy score is 0.6836120401337793\n"
     ]
    }
   ],
   "source": [
    "ypred = np.array(bst.predict(xgb.DMatrix(X_test)))\n",
    "ypred_bst  = ypred > 0.5  \n",
    "ypred_bst = ypred_bst.astype(int)  \n",
    "print(confusion_matrix(y_test, ypred_bst))\n",
    "print(classification_report(y_test, ypred_bst))\n",
    "print('the accuracy score is',accuracy_score(y_test, ypred_bst))"
   ]
  },
  {
   "cell_type": "code",
   "execution_count": 142,
   "metadata": {},
   "outputs": [
    {
     "data": {
      "text/plain": [
       "1495"
      ]
     },
     "execution_count": 142,
     "metadata": {},
     "output_type": "execute_result"
    }
   ],
   "source": [
    "len(ypred_bst)"
   ]
  },
  {
   "cell_type": "code",
   "execution_count": 143,
   "metadata": {},
   "outputs": [
    {
     "data": {
      "text/plain": [
       "<matplotlib.axes._subplots.AxesSubplot at 0x7fb4b4ca5d90>"
      ]
     },
     "execution_count": 143,
     "metadata": {},
     "output_type": "execute_result"
    },
    {
     "data": {
      "image/png": "[encoded data removed]",
      "text/plain": [
       "<Figure size 432x288 with 1 Axes>"
      ]
     },
     "metadata": {
      "needs_background": "light"
     },
     "output_type": "display_data"
    }
   ],
   "source": [
    "xgb.plot_importance(bst)"
   ]
  },
  {
   "cell_type": "code",
   "execution_count": 144,
   "metadata": {},
   "outputs": [],
   "source": [
    "ypred = np.array(bst.predict(xgb.DMatrix(Test_data)))\n",
    "ypred_bst  = ypred > 0.5  \n",
    "ypred_bst = ypred_bst.astype(int)  "
   ]
  },
  {
   "cell_type": "code",
   "execution_count": 145,
   "metadata": {},
   "outputs": [],
   "source": [
    "submission = pd.read_csv(\"sample_submission.csv\")\n",
    "submission['Decision'] = ypred_bst\n",
    "pd.DataFrame(submission).to_csv(\"XGBoost_Submission.csv\",index=False)"
   ]
  }
 ],
 "metadata": {
  "kernelspec": {
   "display_name": "Python 3",
   "language": "python",
   "name": "python3"
  },
  "language_info": {
   "codemirror_mode": {
    "name": "ipython",
    "version": 3
   },
   "file_extension": ".py",
   "mimetype": "text/x-python",
   "name": "python",
   "nbconvert_exporter": "python",
   "pygments_lexer": "ipython3",
   "version": "3.7.4"
  }
 },
 "nbformat": 4,
 "nbformat_minor": 2
}
