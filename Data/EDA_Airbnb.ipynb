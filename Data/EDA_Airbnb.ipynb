{
 "cells": [
  {
   "cell_type": "markdown",
   "metadata": {},
   "source": [
    "# Predicting User decision using Models"
   ]
  },
  {
   "cell_type": "code",
   "execution_count": 1,
   "metadata": {},
   "outputs": [],
   "source": [
    "# Load Library\n",
    "import math\n",
    "import numpy as np\n",
    "import matplotlib.pyplot as plt\n",
    "import scipy.io as io\n",
    "import sklearn\n",
    "import libsvm\n",
    "from libsvm.svmutil import *\n",
    "import pandas as pd\n",
    "import seaborn as sns\n",
    "\n",
    "\n",
    "%matplotlib inline"
   ]
  },
  {
   "cell_type": "code",
   "execution_count": 2,
   "metadata": {},
   "outputs": [],
   "source": [
    "colors = ['#1f77b4', '#ff7f0e', '#2ca02c', '#d62728', '#9467bd',\n",
    "          '#8c564b', '#e377c2', '#7f7f7f', '#bcbd22', '#17becf']  "
   ]
  },
  {
   "cell_type": "markdown",
   "metadata": {},
   "source": [
    "## 1 Exploratory Analysis"
   ]
  },
  {
   "cell_type": "code",
   "execution_count": 3,
   "metadata": {},
   "outputs": [
    {
     "name": "stdout",
     "output_type": "stream",
     "text": [
      "(9911, 23)\n"
     ]
    }
   ],
   "source": [
    "# Read in Samples \n",
    "decision = pd.read_csv(\"sample_submission.csv\")\n",
    "test = pd.read_csv(\"test.csv\")\n",
    "test = pd.concat((test, decision['Decision']), axis = 1,sort=False)\n",
    "train = pd.read_csv(\"train.csv\")\n",
    "test['data'] = 'test'\n",
    "train['data'] = 'train'\n",
    "# Combine Test and Train Data for EDA \n",
    "Combined = pd.concat((test, train), axis = 0, ignore_index = True,sort=False)\n",
    "print(Combined.shape)"
   ]
  },
  {
   "cell_type": "markdown",
   "metadata": {},
   "source": [
    "There are 2440 test data with 23 variables. There are 7471 data with 23 variables. We have features include\n",
    "* id                        \n",
    "* Host_response_time       \n",
    "* Host_is_superhost         \n",
    "* Host_has_profile_pic      \n",
    "* Host_identity_verified    \n",
    "* Neighbourhood             \n",
    "* Property_type             \n",
    "* Room_type                 \n",
    "* Accommodates              \n",
    "* Bathrooms_text           \n",
    "* Bedrooms                  \n",
    "* Beds                     \n",
    "* Essentials           \n",
    "* Cooking                 \n",
    "* Balcony                  \n",
    "* Parking                 \n",
    "* Price                     \n",
    "* Number_of_reviews         \n",
    "* Review_scores_rating      \n",
    "* Instant_bookable          \n",
    "* Month       "
   ]
  },
  {
   "cell_type": "markdown",
   "metadata": {},
   "source": [
    "## Predictive Variables \n",
    "We want to predictive the decision of user which is a binary variable: 1 represents booked; 0 represents did not book. Among 9911 dataset (including both test and trained data), there are 5176 did not book while 4735 booked. "
   ]
  },
  {
   "cell_type": "code",
   "execution_count": 4,
   "metadata": {},
   "outputs": [
    {
     "data": {
      "text/plain": [
       "<matplotlib.axes._subplots.AxesSubplot at 0x7faeb50090d0>"
      ]
     },
     "execution_count": 4,
     "metadata": {},
     "output_type": "execute_result"
    },
    {
     "data": {
      "image/png": "[encoded data removed]",
      "text/plain": [
       "<Figure size 432x288 with 1 Axes>"
      ]
     },
     "metadata": {
      "needs_background": "light"
     },
     "output_type": "display_data"
    }
   ],
   "source": [
    "Combined['Decision'].value_counts()\n",
    "Combined.Decision.value_counts(dropna=False).plot(kind='bar', color=colors)"
   ]
  },
  {
   "cell_type": "code",
   "execution_count": 5,
   "metadata": {},
   "outputs": [],
   "source": [
    "# We first drop variables  \n",
    "Combined = Combined.drop(['id'], axis=1) # we want to drop id "
   ]
  },
  {
   "cell_type": "markdown",
   "metadata": {},
   "source": [
    "##  Explanatory Variables \n",
    "### Binary Variables\n",
    "* Host_is_superhost\n",
    "* Host_has_profile_pic\n",
    "* Host_identity_verified\n",
    "* Instant_bookable \n",
    "Variables listed above will be turned into a binary variable: true is represented as 1, false is represented as 0. "
   ]
  },
  {
   "cell_type": "code",
   "execution_count": 6,
   "metadata": {},
   "outputs": [],
   "source": [
    "# Most Host has profile picture, we drop such variable. \n",
    "Combined['Host_has_profile_pic'].value_counts()\n",
    "Combined = Combined.drop(['Host_has_profile_pic'], axis=1) "
   ]
  },
  {
   "cell_type": "code",
   "execution_count": 7,
   "metadata": {},
   "outputs": [],
   "source": [
    "Combined['Host_is_superhost'] = Combined['Host_is_superhost'].apply(lambda x: 1 if x == 't' else 0)\n",
    "Combined['Host_identity_verified'] = Combined['Host_identity_verified'].apply(lambda x: 1 if x == 't' else 0)\n",
    "Combined['Instant_bookable'] = Combined['Instant_bookable'].apply(lambda x: 1 if x == 't' else 0)"
   ]
  },
  {
   "cell_type": "markdown",
   "metadata": {},
   "source": [
    "### Categorical Variable  \n",
    "* Neighbourhood\n",
    "* Property_type\n",
    "* Room_type\n",
    "* Month\n",
    "* Bathrooms_text\n",
    "We use one-hot-encoding to on categorical variables. "
   ]
  },
  {
   "cell_type": "code",
   "execution_count": 8,
   "metadata": {},
   "outputs": [
    {
     "data": {
      "image/png": "[encoded data removed]",
      "text/plain": [
       "<Figure size 432x288 with 1 Axes>"
      ]
     },
     "metadata": {
      "needs_background": "light"
     },
     "output_type": "display_data"
    }
   ],
   "source": [
    "# Neighbourhood\n",
    "Combined['Neighbourhood'].value_counts()\n",
    "Combined.Neighbourhood.value_counts(dropna=False).plot(kind='bar', color=colors)\n",
    "Combined = Combined.drop(['Neighbourhood'], axis=1) "
   ]
  },
  {
   "cell_type": "code",
   "execution_count": 9,
   "metadata": {},
   "outputs": [],
   "source": [
    "# Property_type \n",
    "## We will drop property type because of its high dimensionality \n",
    "Combined['Property_type'].value_counts()\n",
    "Combined = Combined.drop(['Property_type'], axis=1) "
   ]
  },
  {
   "cell_type": "code",
   "execution_count": 10,
   "metadata": {},
   "outputs": [
    {
     "data": {
      "text/plain": [
       "<matplotlib.axes._subplots.AxesSubplot at 0x7faeb52c8c50>"
      ]
     },
     "execution_count": 10,
     "metadata": {},
     "output_type": "execute_result"
    },
    {
     "data": {
      "image/png": "[encoded data removed]",
      "text/plain": [
       "<Figure size 432x288 with 1 Axes>"
      ]
     },
     "metadata": {
      "needs_background": "light"
     },
     "output_type": "display_data"
    }
   ],
   "source": [
    "# Room_type\n",
    "# Combined['Host_response_time'].value_counts()\n",
    "Combined['Room_type'].value_counts()\n",
    "Combined.Room_type.value_counts(dropna=False).plot(kind='bar', color=colors)"
   ]
  },
  {
   "cell_type": "code",
   "execution_count": 11,
   "metadata": {},
   "outputs": [
    {
     "data": {
      "text/plain": [
       "<Figure size 1080x432 with 0 Axes>"
      ]
     },
     "metadata": {},
     "output_type": "display_data"
    },
    {
     "data": {
      "image/png": "[encoded data removed]",
      "text/plain": [
       "<Figure size 410.75x360 with 1 Axes>"
      ]
     },
     "metadata": {
      "needs_background": "light"
     },
     "output_type": "display_data"
    }
   ],
   "source": [
    "# Month\n",
    "Combined['Month'].value_counts()\n",
    "\n",
    "# Plot Price vs Room_type vs Month\n",
    "plt.figure(figsize=(15, 6))\n",
    "sns.catplot(x='Month',hue='Decision',data=Combined,kind=\"count\")\n",
    "\n",
    "# plt.ylim(15, 60)\n",
    "plt.legend(loc='upper right')\n",
    "plt.show()"
   ]
  },
  {
   "cell_type": "code",
   "execution_count": 12,
   "metadata": {},
   "outputs": [],
   "source": [
    "# Bathrooms_text\n",
    "## We will drop Bathrooms_text because of its high dimensionality \n",
    "Combined['Bathrooms_text'].value_counts()\n",
    "Combined = Combined.drop(['Bathrooms_text'], axis=1) "
   ]
  },
  {
   "cell_type": "markdown",
   "metadata": {},
   "source": [
    "#### Numeric Data\n",
    "We have Numeric data including \n",
    "* Bedrooms\n",
    "* Beds\n",
    "* Accommodates\n",
    "* Parking\n",
    "* Balcony\n",
    "* Review_scores_rating\n",
    "* Price\n",
    "* Number_of_reviews. "
   ]
  },
  {
   "cell_type": "code",
   "execution_count": 13,
   "metadata": {},
   "outputs": [],
   "source": [
    "# Turn Price into int\n",
    "Combined['Price'] = Combined['Price'].str.replace('$','')\n",
    "Combined['Price'] = Combined['Price'].str.replace(',','')\n",
    "Combined['Price'] = pd.to_numeric(Combined['Price'], errors='coerce')"
   ]
  },
  {
   "cell_type": "code",
   "execution_count": 14,
   "metadata": {},
   "outputs": [
    {
     "data": {
      "text/html": [
       "<div>\n",
       "<style scoped>\n",
       "    .dataframe tbody tr th:only-of-type {\n",
       "        vertical-align: middle;\n",
       "    }\n",
       "\n",
       "    .dataframe tbody tr th {\n",
       "        vertical-align: top;\n",
       "    }\n",
       "\n",
       "    .dataframe thead th {\n",
       "        text-align: right;\n",
       "    }\n",
       "</style>\n",
       "<table border=\"1\" class=\"dataframe\">\n",
       "  <thead>\n",
       "    <tr style=\"text-align: right;\">\n",
       "      <th></th>\n",
       "      <th>Bedrooms</th>\n",
       "      <th>Beds</th>\n",
       "      <th>Accommodates</th>\n",
       "      <th>Parking</th>\n",
       "      <th>Balcony</th>\n",
       "      <th>Review_scores_rating</th>\n",
       "      <th>Price</th>\n",
       "      <th>Number_of_reviews</th>\n",
       "    </tr>\n",
       "  </thead>\n",
       "  <tbody>\n",
       "    <tr>\n",
       "      <td>count</td>\n",
       "      <td>9177.000000</td>\n",
       "      <td>9889.000000</td>\n",
       "      <td>9911.000000</td>\n",
       "      <td>9911.000000</td>\n",
       "      <td>9911.000000</td>\n",
       "      <td>9242.000000</td>\n",
       "      <td>9911.000000</td>\n",
       "      <td>9911.000000</td>\n",
       "    </tr>\n",
       "    <tr>\n",
       "      <td>mean</td>\n",
       "      <td>1.840253</td>\n",
       "      <td>2.294570</td>\n",
       "      <td>4.303400</td>\n",
       "      <td>0.956513</td>\n",
       "      <td>0.630915</td>\n",
       "      <td>4.878196</td>\n",
       "      <td>183.823429</td>\n",
       "      <td>83.068106</td>\n",
       "    </tr>\n",
       "    <tr>\n",
       "      <td>std</td>\n",
       "      <td>1.107743</td>\n",
       "      <td>1.753087</td>\n",
       "      <td>2.743834</td>\n",
       "      <td>0.203961</td>\n",
       "      <td>0.482581</td>\n",
       "      <td>0.248713</td>\n",
       "      <td>172.896869</td>\n",
       "      <td>106.744149</td>\n",
       "    </tr>\n",
       "    <tr>\n",
       "      <td>min</td>\n",
       "      <td>1.000000</td>\n",
       "      <td>0.000000</td>\n",
       "      <td>1.000000</td>\n",
       "      <td>0.000000</td>\n",
       "      <td>0.000000</td>\n",
       "      <td>0.000000</td>\n",
       "      <td>19.000000</td>\n",
       "      <td>0.000000</td>\n",
       "    </tr>\n",
       "    <tr>\n",
       "      <td>25%</td>\n",
       "      <td>1.000000</td>\n",
       "      <td>1.000000</td>\n",
       "      <td>2.000000</td>\n",
       "      <td>1.000000</td>\n",
       "      <td>0.000000</td>\n",
       "      <td>4.850000</td>\n",
       "      <td>92.000000</td>\n",
       "      <td>11.000000</td>\n",
       "    </tr>\n",
       "    <tr>\n",
       "      <td>50%</td>\n",
       "      <td>1.000000</td>\n",
       "      <td>2.000000</td>\n",
       "      <td>4.000000</td>\n",
       "      <td>1.000000</td>\n",
       "      <td>1.000000</td>\n",
       "      <td>4.930000</td>\n",
       "      <td>135.000000</td>\n",
       "      <td>46.000000</td>\n",
       "    </tr>\n",
       "    <tr>\n",
       "      <td>75%</td>\n",
       "      <td>2.000000</td>\n",
       "      <td>3.000000</td>\n",
       "      <td>6.000000</td>\n",
       "      <td>1.000000</td>\n",
       "      <td>1.000000</td>\n",
       "      <td>4.990000</td>\n",
       "      <td>221.500000</td>\n",
       "      <td>114.000000</td>\n",
       "    </tr>\n",
       "    <tr>\n",
       "      <td>max</td>\n",
       "      <td>9.000000</td>\n",
       "      <td>21.000000</td>\n",
       "      <td>16.000000</td>\n",
       "      <td>1.000000</td>\n",
       "      <td>1.000000</td>\n",
       "      <td>5.000000</td>\n",
       "      <td>3500.000000</td>\n",
       "      <td>1059.000000</td>\n",
       "    </tr>\n",
       "  </tbody>\n",
       "</table>\n",
       "</div>"
      ],
      "text/plain": [
       "          Bedrooms         Beds  Accommodates      Parking      Balcony  \\\n",
       "count  9177.000000  9889.000000   9911.000000  9911.000000  9911.000000   \n",
       "mean      1.840253     2.294570      4.303400     0.956513     0.630915   \n",
       "std       1.107743     1.753087      2.743834     0.203961     0.482581   \n",
       "min       1.000000     0.000000      1.000000     0.000000     0.000000   \n",
       "25%       1.000000     1.000000      2.000000     1.000000     0.000000   \n",
       "50%       1.000000     2.000000      4.000000     1.000000     1.000000   \n",
       "75%       2.000000     3.000000      6.000000     1.000000     1.000000   \n",
       "max       9.000000    21.000000     16.000000     1.000000     1.000000   \n",
       "\n",
       "       Review_scores_rating        Price  Number_of_reviews  \n",
       "count           9242.000000  9911.000000        9911.000000  \n",
       "mean               4.878196   183.823429          83.068106  \n",
       "std                0.248713   172.896869         106.744149  \n",
       "min                0.000000    19.000000           0.000000  \n",
       "25%                4.850000    92.000000          11.000000  \n",
       "50%                4.930000   135.000000          46.000000  \n",
       "75%                4.990000   221.500000         114.000000  \n",
       "max                5.000000  3500.000000        1059.000000  "
      ]
     },
     "execution_count": 14,
     "metadata": {},
     "output_type": "execute_result"
    }
   ],
   "source": [
    "Combined[[\"Bedrooms\", \"Beds\",\"Accommodates\",\"Parking\",\"Balcony\",\"Review_scores_rating\",\"Price\",\"Number_of_reviews\"]].describe()"
   ]
  },
  {
   "cell_type": "code",
   "execution_count": 15,
   "metadata": {},
   "outputs": [
    {
     "data": {
      "image/png": "[encoded data removed]",
      "text/plain": [
       "<Figure size 720x360 with 1 Axes>"
      ]
     },
     "metadata": {
      "needs_background": "light"
     },
     "output_type": "display_data"
    }
   ],
   "source": [
    "plt.figure(figsize=(10,5))\n",
    "plt.xlim(0,2000)\n",
    "plt.xlabel('Price')\n",
    "plt.ylabel('Density')\n",
    "sns.kdeplot(Combined['Price'],shade=True)\n",
    "plt.show()"
   ]
  },
  {
   "cell_type": "code",
   "execution_count": 16,
   "metadata": {},
   "outputs": [
    {
     "data": {
      "image/png": "[encoded data removed]",
      "text/plain": [
       "<Figure size 1080x432 with 1 Axes>"
      ]
     },
     "metadata": {
      "needs_background": "light"
     },
     "output_type": "display_data"
    }
   ],
   "source": [
    "# Plot Price vs Room_type vs Month\n",
    "plt.figure(figsize=(15, 6))\n",
    "sns.boxplot(x='Month', y='Price', hue = 'Room_type', data=Combined)\n",
    "# plt.ylim(15, 60)\n",
    "plt.legend(loc='upper right')\n",
    "plt.show()"
   ]
  },
  {
   "cell_type": "markdown",
   "metadata": {},
   "source": [
    "Hotel room on averag has a higher price compared to other room type. August are more expensive on average compared to other month. Entire home/apartment has larger spread.  "
   ]
  },
  {
   "cell_type": "code",
   "execution_count": 17,
   "metadata": {},
   "outputs": [
    {
     "name": "stderr",
     "output_type": "stream",
     "text": [
      "/Users/yuchenlu/opt/anaconda3/lib/python3.7/site-packages/seaborn/_decorators.py:43: FutureWarning: Pass the following variables as keyword args: x, y. From version 0.12, the only valid positional argument will be `data`, and passing other arguments without an explicit keyword will result in an error or misinterpretation.\n",
      "  FutureWarning\n"
     ]
    },
    {
     "data": {
      "image/png": "[encoded data removed]",
      "text/plain": [
       "<Figure size 1080x432 with 1 Axes>"
      ]
     },
     "metadata": {
      "needs_background": "light"
     },
     "output_type": "display_data"
    }
   ],
   "source": [
    "# Review_scores_rating vs Number_of_reviews\n",
    "# Combined[\"Review_scores_rating\"].value_counts()\n",
    "plt.figure(figsize=(15, 6))\n",
    "sns.scatterplot(Combined['Review_scores_rating'],Combined[\"Number_of_reviews\"])\n",
    "plt.show()"
   ]
  },
  {
   "cell_type": "markdown",
   "metadata": {},
   "source": [
    "## Data Processing \n",
    "### Remove NA"
   ]
  },
  {
   "cell_type": "code",
   "execution_count": 18,
   "metadata": {},
   "outputs": [],
   "source": [
    "# Combined.isnull().sum()\n",
    "Combined_new = Combined.dropna(axis = 0, how ='any')"
   ]
  },
  {
   "cell_type": "markdown",
   "metadata": {},
   "source": [
    "### Selecting Model "
   ]
  },
  {
   "cell_type": "code",
   "execution_count": 22,
   "metadata": {},
   "outputs": [
    {
     "name": "stdout",
     "output_type": "stream",
     "text": [
      "<class 'pandas.core.frame.DataFrame'>\n",
      "Int64Index: 7674 entries, 1 to 9910\n",
      "Data columns (total 18 columns):\n",
      "Host_response_time        7674 non-null object\n",
      "Host_is_superhost         7674 non-null int64\n",
      "Host_identity_verified    7674 non-null int64\n",
      "Room_type                 7674 non-null object\n",
      "Accommodates              7674 non-null int64\n",
      "Bedrooms                  7674 non-null float64\n",
      "Beds                      7674 non-null float64\n",
      "Essentials                7674 non-null int64\n",
      "Cooking                   7674 non-null int64\n",
      "Balcony                   7674 non-null int64\n",
      "Parking                   7674 non-null int64\n",
      "Price                     7674 non-null float64\n",
      "Number_of_reviews         7674 non-null int64\n",
      "Review_scores_rating      7674 non-null float64\n",
      "Instant_bookable          7674 non-null int64\n",
      "Month                     7674 non-null object\n",
      "Decision                  7674 non-null int64\n",
      "data                      7674 non-null object\n",
      "dtypes: float64(4), int64(10), object(4)\n",
      "memory usage: 1.1+ MB\n"
     ]
    }
   ],
   "source": [
    "Combined_new.info()"
   ]
  },
  {
   "cell_type": "markdown",
   "metadata": {},
   "source": [
    "### Dummy Variables "
   ]
  },
  {
   "cell_type": "code",
   "execution_count": 23,
   "metadata": {},
   "outputs": [],
   "source": [
    "# Get dummy variables for Neighbourhood; Room_type;Month, Property_type.\n",
    "features = ['Room_type', 'Month','Host_response_time']\n",
    "Combined_new = pd.get_dummies(Combined_new,columns=features)"
   ]
  },
  {
   "cell_type": "markdown",
   "metadata": {},
   "source": [
    "## Prep Test/Train Data"
   ]
  },
  {
   "cell_type": "code",
   "execution_count": 24,
   "metadata": {},
   "outputs": [],
   "source": [
    "# Split test data\n",
    "test = Combined_new[Combined_new[\"data\"] == \"test\"]\n",
    "test_x = test.drop(['Decision','data'], axis=1) \n",
    "test_y = test['Decision']\n",
    "# Split train data\n",
    "train = Combined_new[Combined_new[\"data\"] == \"train\"]\n",
    "train_x = train.drop(['Decision','data'], axis=1) \n",
    "train_y = train['Decision']"
   ]
  },
  {
   "cell_type": "code",
   "execution_count": 25,
   "metadata": {},
   "outputs": [],
   "source": [
    "# Split 20% as test data and 80% as train data\n",
    "from sklearn.model_selection import train_test_split\n",
    "X = train_x \n",
    "Y = train_y\n",
    "X_train, X_test, y_train, y_test = train_test_split(X,Y, test_size=0.2, random_state=1)"
   ]
  },
  {
   "cell_type": "markdown",
   "metadata": {},
   "source": [
    "# Model\n",
    "## Logistic Regression with Step-wise Feature Selection"
   ]
  },
  {
   "cell_type": "code",
   "execution_count": 60,
   "metadata": {},
   "outputs": [],
   "source": [
    "import statsmodels.api as sm\n",
    "x_columns =  list(X_train.columns)\n",
    "y = y_train\n",
    "def get_stats():\n",
    "    x = X_train[x_columns]\n",
    "    results = sm.OLS(y, x).fit()\n",
    "    print(results.summary())"
   ]
  },
  {
   "cell_type": "code",
   "execution_count": 61,
   "metadata": {},
   "outputs": [
    {
     "name": "stdout",
     "output_type": "stream",
     "text": [
      "                            OLS Regression Results                            \n",
      "==============================================================================\n",
      "Dep. Variable:               Decision   R-squared:                       0.100\n",
      "Model:                            OLS   Adj. R-squared:                  0.096\n",
      "Method:                 Least Squares   F-statistic:                     23.61\n",
      "Date:                Mon, 06 Dec 2021   Prob (F-statistic):           1.61e-90\n",
      "Time:                        21:32:35   Log-Likelihood:                -2836.9\n",
      "No. Observations:                4692   AIC:                             5720.\n",
      "Df Residuals:                    4669   BIC:                             5868.\n",
      "Df Model:                          22                                         \n",
      "Covariance Type:            nonrobust                                         \n",
      "=========================================================================================================\n",
      "                                            coef    std err          t      P>|t|      [0.025      0.975]\n",
      "---------------------------------------------------------------------------------------------------------\n",
      "Host_is_superhost                        -0.0277      0.017     -1.608      0.108      -0.061       0.006\n",
      "Host_identity_verified                    0.0514      0.016      3.254      0.001       0.020       0.082\n",
      "Accommodates                              0.0249      0.006      3.984      0.000       0.013       0.037\n",
      "Bedrooms                                 -0.0281      0.014     -2.033      0.042      -0.055      -0.001\n",
      "Beds                                     -0.0025      0.008     -0.295      0.768      -0.019       0.014\n",
      "Essentials                               -0.0353      0.014     -2.550      0.011      -0.063      -0.008\n",
      "Cooking                                  -0.0083      0.005     -1.554      0.120      -0.019       0.002\n",
      "Balcony                                   0.0004      0.016      0.028      0.977      -0.030       0.031\n",
      "Parking                                  -0.1381      0.041     -3.348      0.001      -0.219      -0.057\n",
      "Price                                     0.0001   5.95e-05      1.824      0.068   -8.11e-06       0.000\n",
      "Number_of_reviews                         0.0002   6.46e-05      3.256      0.001    8.36e-05       0.000\n",
      "Review_scores_rating                     -0.0037      0.026     -0.142      0.887      -0.055       0.047\n",
      "Instant_bookable                          0.1078      0.014      7.480      0.000       0.080       0.136\n",
      "Room_type_Entire home/apt                 0.1058      0.055      1.914      0.056      -0.003       0.214\n",
      "Room_type_Hotel room                      0.3362      0.085      3.961      0.000       0.170       0.503\n",
      "Room_type_Private room                    0.2171      0.055      3.934      0.000       0.109       0.325\n",
      "Room_type_Shared room                     0.3939      0.107      3.682      0.000       0.184       0.604\n",
      "Month_August                              0.3316      0.050      6.575      0.000       0.233       0.430\n",
      "Month_July                                0.2029      0.051      4.010      0.000       0.104       0.302\n",
      "Month_June                                0.2134      0.051      4.206      0.000       0.114       0.313\n",
      "Month_September                           0.3052      0.050      6.065      0.000       0.207       0.404\n",
      "Host_response_time_a few days or more     0.0614      0.105      0.585      0.558      -0.144       0.267\n",
      "Host_response_time_within a day           0.2077      0.059      3.535      0.000       0.093       0.323\n",
      "Host_response_time_within a few hours     0.2901      0.056      5.169      0.000       0.180       0.400\n",
      "Host_response_time_within an hour         0.4938      0.053      9.293      0.000       0.390       0.598\n",
      "==============================================================================\n",
      "Omnibus:                     2100.922   Durbin-Watson:                   2.012\n",
      "Prob(Omnibus):                  0.000   Jarque-Bera (JB):              597.539\n",
      "Skew:                          -0.683   Prob(JB):                    1.76e-130\n",
      "Kurtosis:                       1.908   Cond. No.                     1.61e+18\n",
      "==============================================================================\n",
      "\n",
      "Warnings:\n",
      "[1] Standard Errors assume that the covariance matrix of the errors is correctly specified.\n",
      "[2] The smallest eigenvalue is 1.12e-28. This might indicate that there are\n",
      "strong multicollinearity problems or that the design matrix is singular.\n"
     ]
    }
   ],
   "source": [
    "get_stats()"
   ]
  },
  {
   "cell_type": "code",
   "execution_count": 62,
   "metadata": {},
   "outputs": [
    {
     "name": "stdout",
     "output_type": "stream",
     "text": [
      "                            OLS Regression Results                            \n",
      "==============================================================================\n",
      "Dep. Variable:               Decision   R-squared:                       0.100\n",
      "Model:                            OLS   Adj. R-squared:                  0.096\n",
      "Method:                 Least Squares   F-statistic:                     24.74\n",
      "Date:                Mon, 06 Dec 2021   Prob (F-statistic):           3.20e-91\n",
      "Time:                        21:32:35   Log-Likelihood:                -2836.9\n",
      "No. Observations:                4692   AIC:                             5718.\n",
      "Df Residuals:                    4670   BIC:                             5860.\n",
      "Df Model:                          21                                         \n",
      "Covariance Type:            nonrobust                                         \n",
      "=========================================================================================================\n",
      "                                            coef    std err          t      P>|t|      [0.025      0.975]\n",
      "---------------------------------------------------------------------------------------------------------\n",
      "Host_is_superhost                        -0.0277      0.017     -1.608      0.108      -0.061       0.006\n",
      "Host_identity_verified                    0.0514      0.016      3.255      0.001       0.020       0.082\n",
      "Accommodates                              0.0249      0.006      3.985      0.000       0.013       0.037\n",
      "Bedrooms                                 -0.0280      0.014     -2.037      0.042      -0.055      -0.001\n",
      "Beds                                     -0.0025      0.008     -0.296      0.767      -0.019       0.014\n",
      "Essentials                               -0.0353      0.014     -2.573      0.010      -0.062      -0.008\n",
      "Cooking                                  -0.0083      0.005     -1.633      0.102      -0.018       0.002\n",
      "Parking                                  -0.1380      0.041     -3.366      0.001      -0.218      -0.058\n",
      "Price                                     0.0001   5.95e-05      1.825      0.068   -8.07e-06       0.000\n",
      "Number_of_reviews                         0.0002   6.45e-05      3.260      0.001    8.38e-05       0.000\n",
      "Review_scores_rating                     -0.0037      0.026     -0.141      0.888      -0.055       0.047\n",
      "Instant_bookable                          0.1078      0.014      7.509      0.000       0.080       0.136\n",
      "Room_type_Entire home/apt                 0.1056      0.055      1.928      0.054      -0.002       0.213\n",
      "Room_type_Hotel room                      0.3361      0.085      3.971      0.000       0.170       0.502\n",
      "Room_type_Private room                    0.2169      0.055      3.954      0.000       0.109       0.325\n",
      "Room_type_Shared room                     0.3937      0.107      3.688      0.000       0.184       0.603\n",
      "Month_August                              0.3314      0.050      6.632      0.000       0.233       0.429\n",
      "Month_July                                0.2027      0.050      4.042      0.000       0.104       0.301\n",
      "Month_June                                0.2132      0.050      4.241      0.000       0.115       0.312\n",
      "Month_September                           0.3050      0.050      6.117      0.000       0.207       0.403\n",
      "Host_response_time_a few days or more     0.0613      0.105      0.585      0.559      -0.144       0.267\n",
      "Host_response_time_within a day           0.2075      0.058      3.557      0.000       0.093       0.322\n",
      "Host_response_time_within a few hours     0.2899      0.056      5.212      0.000       0.181       0.399\n",
      "Host_response_time_within an hour         0.4936      0.053      9.358      0.000       0.390       0.597\n",
      "==============================================================================\n",
      "Omnibus:                     2101.199   Durbin-Watson:                   2.012\n",
      "Prob(Omnibus):                  0.000   Jarque-Bera (JB):              597.520\n",
      "Skew:                          -0.683   Prob(JB):                    1.78e-130\n",
      "Kurtosis:                       1.908   Cond. No.                     9.94e+17\n",
      "==============================================================================\n",
      "\n",
      "Warnings:\n",
      "[1] Standard Errors assume that the covariance matrix of the errors is correctly specified.\n",
      "[2] The smallest eigenvalue is 2.93e-28. This might indicate that there are\n",
      "strong multicollinearity problems or that the design matrix is singular.\n"
     ]
    }
   ],
   "source": [
    "x_columns.remove(\"Balcony\")\n",
    "get_stats()"
   ]
  },
  {
   "cell_type": "code",
   "execution_count": 63,
   "metadata": {},
   "outputs": [
    {
     "name": "stdout",
     "output_type": "stream",
     "text": [
      "                            OLS Regression Results                            \n",
      "==============================================================================\n",
      "Dep. Variable:               Decision   R-squared:                       0.100\n",
      "Model:                            OLS   Adj. R-squared:                  0.096\n",
      "Method:                 Least Squares   F-statistic:                     25.98\n",
      "Date:                Mon, 06 Dec 2021   Prob (F-statistic):           6.45e-92\n",
      "Time:                        21:32:36   Log-Likelihood:                -2836.9\n",
      "No. Observations:                4692   AIC:                             5716.\n",
      "Df Residuals:                    4671   BIC:                             5851.\n",
      "Df Model:                          20                                         \n",
      "Covariance Type:            nonrobust                                         \n",
      "=========================================================================================================\n",
      "                                            coef    std err          t      P>|t|      [0.025      0.975]\n",
      "---------------------------------------------------------------------------------------------------------\n",
      "Host_is_superhost                        -0.0275      0.017     -1.602      0.109      -0.061       0.006\n",
      "Host_identity_verified                    0.0512      0.016      3.247      0.001       0.020       0.082\n",
      "Accommodates                              0.0239      0.005      4.547      0.000       0.014       0.034\n",
      "Bedrooms                                 -0.0291      0.013     -2.186      0.029      -0.055      -0.003\n",
      "Essentials                               -0.0354      0.014     -2.586      0.010      -0.062      -0.009\n",
      "Cooking                                  -0.0083      0.005     -1.635      0.102      -0.018       0.002\n",
      "Parking                                  -0.1384      0.041     -3.379      0.001      -0.219      -0.058\n",
      "Price                                     0.0001   5.93e-05      1.807      0.071   -9.07e-06       0.000\n",
      "Number_of_reviews                         0.0002   6.45e-05      3.259      0.001    8.38e-05       0.000\n",
      "Review_scores_rating                     -0.0039      0.026     -0.150      0.881      -0.055       0.047\n",
      "Instant_bookable                          0.1078      0.014      7.513      0.000       0.080       0.136\n",
      "Room_type_Entire home/apt                 0.1072      0.054      1.967      0.049       0.000       0.214\n",
      "Room_type_Hotel room                      0.3380      0.084      4.007      0.000       0.173       0.503\n",
      "Room_type_Private room                    0.2183      0.055      3.992      0.000       0.111       0.325\n",
      "Room_type_Shared room                     0.3912      0.106      3.677      0.000       0.183       0.600\n",
      "Month_August                              0.3320      0.050      6.651      0.000       0.234       0.430\n",
      "Month_July                                0.2033      0.050      4.057      0.000       0.105       0.302\n",
      "Month_June                                0.2138      0.050      4.257      0.000       0.115       0.312\n",
      "Month_September                           0.3057      0.050      6.136      0.000       0.208       0.403\n",
      "Host_response_time_a few days or more     0.0615      0.105      0.587      0.557      -0.144       0.267\n",
      "Host_response_time_within a day           0.2084      0.058      3.576      0.000       0.094       0.323\n",
      "Host_response_time_within a few hours     0.2906      0.056      5.228      0.000       0.182       0.400\n",
      "Host_response_time_within an hour         0.4943      0.053      9.384      0.000       0.391       0.598\n",
      "==============================================================================\n",
      "Omnibus:                     2102.383   Durbin-Watson:                   2.013\n",
      "Prob(Omnibus):                  0.000   Jarque-Bera (JB):              597.465\n",
      "Skew:                          -0.683   Prob(JB):                    1.83e-130\n",
      "Kurtosis:                       1.908   Cond. No.                     1.06e+18\n",
      "==============================================================================\n",
      "\n",
      "Warnings:\n",
      "[1] Standard Errors assume that the covariance matrix of the errors is correctly specified.\n",
      "[2] The smallest eigenvalue is 2.59e-28. This might indicate that there are\n",
      "strong multicollinearity problems or that the design matrix is singular.\n"
     ]
    }
   ],
   "source": [
    "x_columns.remove(\"Beds\")\n",
    "get_stats()"
   ]
  },
  {
   "cell_type": "code",
   "execution_count": 66,
   "metadata": {},
   "outputs": [
    {
     "name": "stdout",
     "output_type": "stream",
     "text": [
      "                            OLS Regression Results                            \n",
      "==============================================================================\n",
      "Dep. Variable:               Decision   R-squared:                       0.100\n",
      "Model:                            OLS   Adj. R-squared:                  0.096\n",
      "Method:                 Least Squares   F-statistic:                     27.35\n",
      "Date:                Mon, 06 Dec 2021   Prob (F-statistic):           1.23e-92\n",
      "Time:                        21:33:14   Log-Likelihood:                -2837.0\n",
      "No. Observations:                4692   AIC:                             5714.\n",
      "Df Residuals:                    4672   BIC:                             5843.\n",
      "Df Model:                          19                                         \n",
      "Covariance Type:            nonrobust                                         \n",
      "=========================================================================================================\n",
      "                                            coef    std err          t      P>|t|      [0.025      0.975]\n",
      "---------------------------------------------------------------------------------------------------------\n",
      "Host_is_superhost                        -0.0280      0.017     -1.652      0.099      -0.061       0.005\n",
      "Host_identity_verified                    0.0513      0.016      3.251      0.001       0.020       0.082\n",
      "Accommodates                              0.0239      0.005      4.546      0.000       0.014       0.034\n",
      "Bedrooms                                 -0.0291      0.013     -2.191      0.029      -0.055      -0.003\n",
      "Essentials                               -0.0355      0.014     -2.593      0.010      -0.062      -0.009\n",
      "Cooking                                  -0.0083      0.005     -1.634      0.102      -0.018       0.002\n",
      "Parking                                  -0.1381      0.041     -3.376      0.001      -0.218      -0.058\n",
      "Price                                     0.0001   5.82e-05      1.869      0.062   -5.32e-06       0.000\n",
      "Number_of_reviews                         0.0002   6.45e-05      3.262      0.001    8.39e-05       0.000\n",
      "Instant_bookable                          0.1079      0.014      7.518      0.000       0.080       0.136\n",
      "Room_type_Entire home/apt                 0.1008      0.034      2.940      0.003       0.034       0.168\n",
      "Room_type_Hotel room                      0.3313      0.071      4.653      0.000       0.192       0.471\n",
      "Room_type_Private room                    0.2121      0.036      5.918      0.000       0.142       0.282\n",
      "Room_type_Shared room                     0.3858      0.100      3.854      0.000       0.190       0.582\n",
      "Month_August                              0.3258      0.028     11.530      0.000       0.270       0.381\n",
      "Month_July                                0.1971      0.028      6.946      0.000       0.141       0.253\n",
      "Month_June                                0.2076      0.028      7.328      0.000       0.152       0.263\n",
      "Month_September                           0.2995      0.028     10.589      0.000       0.244       0.355\n",
      "Host_response_time_a few days or more     0.0554      0.096      0.574      0.566      -0.134       0.244\n",
      "Host_response_time_within a day           0.2022      0.041      4.907      0.000       0.121       0.283\n",
      "Host_response_time_within a few hours     0.2843      0.037      7.717      0.000       0.212       0.357\n",
      "Host_response_time_within an hour         0.4882      0.033     14.857      0.000       0.424       0.553\n",
      "==============================================================================\n",
      "Omnibus:                     2103.042   Durbin-Watson:                   2.013\n",
      "Prob(Omnibus):                  0.000   Jarque-Bera (JB):              597.460\n",
      "Skew:                          -0.683   Prob(JB):                    1.83e-130\n",
      "Kurtosis:                       1.908   Cond. No.                     1.20e+18\n",
      "==============================================================================\n",
      "\n",
      "Warnings:\n",
      "[1] Standard Errors assume that the covariance matrix of the errors is correctly specified.\n",
      "[2] The smallest eigenvalue is  2e-28. This might indicate that there are\n",
      "strong multicollinearity problems or that the design matrix is singular.\n"
     ]
    }
   ],
   "source": [
    "x_columns.remove(\"Review_scores_rating\")\n",
    "get_stats()"
   ]
  },
  {
   "cell_type": "code",
   "execution_count": 72,
   "metadata": {},
   "outputs": [
    {
     "name": "stdout",
     "output_type": "stream",
     "text": [
      "                            OLS Regression Results                            \n",
      "==============================================================================\n",
      "Dep. Variable:               Decision   R-squared:                       0.097\n",
      "Model:                            OLS   Adj. R-squared:                  0.095\n",
      "Method:                 Least Squares   F-statistic:                     36.07\n",
      "Date:                Mon, 06 Dec 2021   Prob (F-statistic):           1.52e-93\n",
      "Time:                        21:35:23   Log-Likelihood:                -2843.8\n",
      "No. Observations:                4692   AIC:                             5718.\n",
      "Df Residuals:                    4677   BIC:                             5814.\n",
      "Df Model:                          14                                         \n",
      "Covariance Type:            nonrobust                                         \n",
      "=========================================================================================================\n",
      "                                            coef    std err          t      P>|t|      [0.025      0.975]\n",
      "---------------------------------------------------------------------------------------------------------\n",
      "Host_identity_verified                    0.0544      0.016      3.464      0.001       0.024       0.085\n",
      "Accommodates                              0.0166      0.002      6.647      0.000       0.012       0.021\n",
      "Essentials                               -0.0500      0.012     -4.012      0.000      -0.074      -0.026\n",
      "Parking                                  -0.1491      0.040     -3.683      0.000      -0.228      -0.070\n",
      "Number_of_reviews                         0.0002   6.21e-05      3.360      0.001    8.69e-05       0.000\n",
      "Instant_bookable                          0.1101      0.014      7.679      0.000       0.082       0.138\n",
      "Room_type_Entire home/apt                 0.2048      0.040      5.098      0.000       0.126       0.284\n",
      "Room_type_Hotel room                      0.4761      0.076      6.285      0.000       0.328       0.625\n",
      "Room_type_Private room                    0.3242      0.041      7.828      0.000       0.243       0.405\n",
      "Room_type_Shared room                     0.4768      0.107      4.438      0.000       0.266       0.687\n",
      "Month_August                              0.4378      0.040     10.890      0.000       0.359       0.517\n",
      "Month_July                                0.3108      0.040      7.738      0.000       0.232       0.390\n",
      "Month_June                                0.3224      0.040      8.046      0.000       0.244       0.401\n",
      "Month_September                           0.4109      0.040     10.199      0.000       0.332       0.490\n",
      "Host_response_time_within a few hours     0.0876      0.041      2.153      0.031       0.008       0.167\n",
      "Host_response_time_within an hour         0.2917      0.034      8.475      0.000       0.224       0.359\n",
      "==============================================================================\n",
      "Omnibus:                     2243.365   Durbin-Watson:                   2.012\n",
      "Prob(Omnibus):                  0.000   Jarque-Bera (JB):              602.610\n",
      "Skew:                          -0.683   Prob(JB):                    1.40e-131\n",
      "Kurtosis:                       1.896   Cond. No.                     1.66e+18\n",
      "==============================================================================\n",
      "\n",
      "Warnings:\n",
      "[1] Standard Errors assume that the covariance matrix of the errors is correctly specified.\n",
      "[2] The smallest eigenvalue is 3.44e-29. This might indicate that there are\n",
      "strong multicollinearity problems or that the design matrix is singular.\n"
     ]
    }
   ],
   "source": [
    "x_columns.remove(\"Bedrooms\") \n",
    "x_columns.remove(\"Cooking\") \n",
    "x_columns.remove(\"Price\") \n",
    "x_columns.remove(\"Host_is_superhost\") \n",
    "x_columns.remove(\"Host_response_time_within a day\")\n",
    "x_columns.remove(\"Host_response_time_a few days or more\")\n",
    "get_stats()"
   ]
  },
  {
   "cell_type": "code",
   "execution_count": 89,
   "metadata": {},
   "outputs": [
    {
     "data": {
      "text/html": [
       "<div>\n",
       "<style scoped>\n",
       "    .dataframe tbody tr th:only-of-type {\n",
       "        vertical-align: middle;\n",
       "    }\n",
       "\n",
       "    .dataframe tbody tr th {\n",
       "        vertical-align: top;\n",
       "    }\n",
       "\n",
       "    .dataframe thead th {\n",
       "        text-align: right;\n",
       "    }\n",
       "</style>\n",
       "<table border=\"1\" class=\"dataframe\">\n",
       "  <thead>\n",
       "    <tr style=\"text-align: right;\">\n",
       "      <th></th>\n",
       "      <th>Host_identity_verified</th>\n",
       "      <th>Accommodates</th>\n",
       "      <th>Essentials</th>\n",
       "      <th>Parking</th>\n",
       "      <th>Number_of_reviews</th>\n",
       "      <th>Instant_bookable</th>\n",
       "      <th>Room_type_Entire home/apt</th>\n",
       "      <th>Room_type_Hotel room</th>\n",
       "      <th>Room_type_Private room</th>\n",
       "      <th>Room_type_Shared room</th>\n",
       "      <th>Month_August</th>\n",
       "      <th>Month_July</th>\n",
       "      <th>Month_June</th>\n",
       "      <th>Month_September</th>\n",
       "      <th>Host_response_time_within a few hours</th>\n",
       "      <th>Host_response_time_within an hour</th>\n",
       "    </tr>\n",
       "  </thead>\n",
       "  <tbody>\n",
       "    <tr>\n",
       "      <td>7740</td>\n",
       "      <td>0</td>\n",
       "      <td>2</td>\n",
       "      <td>2</td>\n",
       "      <td>1</td>\n",
       "      <td>59</td>\n",
       "      <td>1</td>\n",
       "      <td>0</td>\n",
       "      <td>0</td>\n",
       "      <td>1</td>\n",
       "      <td>0</td>\n",
       "      <td>0</td>\n",
       "      <td>0</td>\n",
       "      <td>0</td>\n",
       "      <td>1</td>\n",
       "      <td>0</td>\n",
       "      <td>1</td>\n",
       "    </tr>\n",
       "    <tr>\n",
       "      <td>4418</td>\n",
       "      <td>1</td>\n",
       "      <td>2</td>\n",
       "      <td>5</td>\n",
       "      <td>1</td>\n",
       "      <td>6</td>\n",
       "      <td>0</td>\n",
       "      <td>1</td>\n",
       "      <td>0</td>\n",
       "      <td>0</td>\n",
       "      <td>0</td>\n",
       "      <td>0</td>\n",
       "      <td>0</td>\n",
       "      <td>1</td>\n",
       "      <td>0</td>\n",
       "      <td>0</td>\n",
       "      <td>1</td>\n",
       "    </tr>\n",
       "    <tr>\n",
       "      <td>4870</td>\n",
       "      <td>1</td>\n",
       "      <td>5</td>\n",
       "      <td>5</td>\n",
       "      <td>1</td>\n",
       "      <td>97</td>\n",
       "      <td>0</td>\n",
       "      <td>1</td>\n",
       "      <td>0</td>\n",
       "      <td>0</td>\n",
       "      <td>0</td>\n",
       "      <td>0</td>\n",
       "      <td>0</td>\n",
       "      <td>0</td>\n",
       "      <td>1</td>\n",
       "      <td>0</td>\n",
       "      <td>1</td>\n",
       "    </tr>\n",
       "    <tr>\n",
       "      <td>2668</td>\n",
       "      <td>0</td>\n",
       "      <td>7</td>\n",
       "      <td>5</td>\n",
       "      <td>1</td>\n",
       "      <td>158</td>\n",
       "      <td>1</td>\n",
       "      <td>1</td>\n",
       "      <td>0</td>\n",
       "      <td>0</td>\n",
       "      <td>0</td>\n",
       "      <td>0</td>\n",
       "      <td>1</td>\n",
       "      <td>0</td>\n",
       "      <td>0</td>\n",
       "      <td>0</td>\n",
       "      <td>1</td>\n",
       "    </tr>\n",
       "    <tr>\n",
       "      <td>3204</td>\n",
       "      <td>0</td>\n",
       "      <td>2</td>\n",
       "      <td>5</td>\n",
       "      <td>1</td>\n",
       "      <td>69</td>\n",
       "      <td>0</td>\n",
       "      <td>1</td>\n",
       "      <td>0</td>\n",
       "      <td>0</td>\n",
       "      <td>0</td>\n",
       "      <td>0</td>\n",
       "      <td>0</td>\n",
       "      <td>1</td>\n",
       "      <td>0</td>\n",
       "      <td>0</td>\n",
       "      <td>1</td>\n",
       "    </tr>\n",
       "  </tbody>\n",
       "</table>\n",
       "</div>"
      ],
      "text/plain": [
       "      Host_identity_verified  Accommodates  Essentials  Parking  \\\n",
       "7740                       0             2           2        1   \n",
       "4418                       1             2           5        1   \n",
       "4870                       1             5           5        1   \n",
       "2668                       0             7           5        1   \n",
       "3204                       0             2           5        1   \n",
       "\n",
       "      Number_of_reviews  Instant_bookable  Room_type_Entire home/apt  \\\n",
       "7740                 59                 1                          0   \n",
       "4418                  6                 0                          1   \n",
       "4870                 97                 0                          1   \n",
       "2668                158                 1                          1   \n",
       "3204                 69                 0                          1   \n",
       "\n",
       "      Room_type_Hotel room  Room_type_Private room  Room_type_Shared room  \\\n",
       "7740                     0                       1                      0   \n",
       "4418                     0                       0                      0   \n",
       "4870                     0                       0                      0   \n",
       "2668                     0                       0                      0   \n",
       "3204                     0                       0                      0   \n",
       "\n",
       "      Month_August  Month_July  Month_June  Month_September  \\\n",
       "7740             0           0           0                1   \n",
       "4418             0           0           1                0   \n",
       "4870             0           0           0                1   \n",
       "2668             0           1           0                0   \n",
       "3204             0           0           1                0   \n",
       "\n",
       "      Host_response_time_within a few hours  Host_response_time_within an hour  \n",
       "7740                                      0                                  1  \n",
       "4418                                      0                                  1  \n",
       "4870                                      0                                  1  \n",
       "2668                                      0                                  1  \n",
       "3204                                      0                                  1  "
      ]
     },
     "execution_count": 89,
     "metadata": {},
     "output_type": "execute_result"
    }
   ],
   "source": [
    "# Remaining Variables \n",
    "X_train = X_train[x_columns]\n",
    "X_test = X_test[x_columns]\n",
    "X_test.head()"
   ]
  },
  {
   "cell_type": "markdown",
   "metadata": {},
   "source": [
    "## Logistic Regression Base Model"
   ]
  },
  {
   "cell_type": "code",
   "execution_count": 86,
   "metadata": {},
   "outputs": [
    {
     "name": "stderr",
     "output_type": "stream",
     "text": [
      "/Users/yuchenlu/opt/anaconda3/lib/python3.7/site-packages/sklearn/linear_model/_logistic.py:765: ConvergenceWarning: lbfgs failed to converge (status=1):\n",
      "STOP: TOTAL NO. of ITERATIONS REACHED LIMIT.\n",
      "\n",
      "Increase the number of iterations (max_iter) or scale the data as shown in:\n",
      "    https://scikit-learn.org/stable/modules/preprocessing.html\n",
      "Please also refer to the documentation for alternative solver options:\n",
      "    https://scikit-learn.org/stable/modules/linear_model.html#logistic-regression\n",
      "  extra_warning_msg=_LOGISTIC_SOLVER_CONVERGENCE_MSG)\n"
     ]
    },
    {
     "data": {
      "image/png": "[encoded data removed]",
      "text/plain": [
       "<Figure size 432x288 with 1 Axes>"
      ]
     },
     "metadata": {
      "needs_background": "light"
     },
     "output_type": "display_data"
    },
    {
     "name": "stdout",
     "output_type": "stream",
     "text": [
      "the accuracy score is 0.702725724020443\n"
     ]
    }
   ],
   "source": [
    "from sklearn.model_selection import KFold\n",
    "from sklearn.model_selection import cross_val_score\n",
    "from sklearn.linear_model import LogisticRegression\n",
    "from matplotlib import pyplot\n",
    "from scipy.stats import sem\n",
    "from numpy import mean\n",
    "from numpy import std\n",
    "import sklearn.metrics as metrics\n",
    "from sklearn.metrics import accuracy_score\n",
    "\n",
    "\n",
    "# generate a no skill prediction (majority class)\n",
    "ns_probs = [0 for _ in range(len(test_y))]\n",
    "# define model\n",
    "model = LogisticRegression()\n",
    "# fit a model\n",
    "model = LogisticRegression() #penalty = 'l2', solver='liblinear',\n",
    "model.fit(X_train, y_train)\n",
    "# predict probabilities\n",
    "lr_probs = model.predict_proba(X_test)\n",
    "# keep probabilities for the positive outcome only\n",
    "lr_probs = lr_probs[:, 1]\n",
    "fpr, tpr, threshold = metrics.roc_curve(y_test,lr_probs)\n",
    "roc_auc = metrics.auc(fpr, tpr)\n",
    "\n",
    "# plot\n",
    "plt.title('ROC Curve')\n",
    "plt.plot(fpr, tpr, 'b', label = 'AUC = %0.2f' % roc_auc)\n",
    "plt.legend(loc = 'lower right')\n",
    "plt.plot([0, 1], [0, 1],'r--')\n",
    "plt.xlim([0, 1])\n",
    "plt.ylim([0, 1])\n",
    "plt.ylabel('True Positive Rate')\n",
    "plt.xlabel('False Positive Rate')\n",
    "plt.show()\n",
    "prediction = model.predict(X_test)\n",
    "print('the accuracy score is',accuracy_score(y_test, prediction))"
   ]
  },
  {
   "cell_type": "markdown",
   "metadata": {},
   "source": [
    "Evaluates a logistic regression model on it using 10-fold cross-validation. The model achieved an accuracy score of about 0.702725724020443."
   ]
  },
  {
   "cell_type": "markdown",
   "metadata": {},
   "source": [
    "### Evaluation: KFold Cross Validation"
   ]
  },
  {
   "cell_type": "code",
   "execution_count": 82,
   "metadata": {},
   "outputs": [
    {
     "name": "stdout",
     "output_type": "stream",
     "text": [
      ">1 mean=0.7023 se=0.007\n",
      ">2 mean=0.7018 se=0.004\n",
      ">3 mean=0.7013 se=0.003\n",
      ">4 mean=0.7009 se=0.003\n",
      ">5 mean=0.7011 se=0.003\n",
      ">6 mean=0.7009 se=0.003\n",
      ">7 mean=0.7010 se=0.002\n",
      ">8 mean=0.7013 se=0.002\n",
      ">9 mean=0.7011 se=0.002\n",
      ">10 mean=0.7012 se=0.002\n",
      ">11 mean=0.7012 se=0.002\n",
      ">12 mean=0.7012 se=0.002\n",
      ">13 mean=0.7012 se=0.002\n",
      ">14 mean=0.7012 se=0.002\n",
      ">15 mean=0.7015 se=0.002\n"
     ]
    },
    {
     "data": {
      "image/png": "[encoded data removed]",
      "text/plain": [
       "<Figure size 432x288 with 1 Axes>"
      ]
     },
     "metadata": {
      "needs_background": "light"
     },
     "output_type": "display_data"
    }
   ],
   "source": [
    "# evaluate a model with a given number of repeats\n",
    "def evaluate_model(X, y, repeats):\n",
    "    # prepare the cross-validation procedure\n",
    "    cv = RepeatedKFold(n_splits=10, n_repeats=repeats, random_state=1)\n",
    "    # create model\n",
    "    model = LogisticRegression()\n",
    "    # evaluate model\n",
    "    scores = cross_val_score(model, X, y, scoring='accuracy', cv=cv, n_jobs=-1)\n",
    "    return scores\n",
    "\n",
    "# configurations to test\n",
    "repeats = range(1,16)\n",
    "results = list()\n",
    "for r in repeats:\n",
    "    # evaluate using a given number of repeats\n",
    "    scores = evaluate_model(X_train, y_train, r)\n",
    "    print('>%d mean=%.4f se=%.3f' % (r, mean(scores), sem(scores)))\n",
    "    # store\n",
    "    results.append(scores)\n",
    "# plot the results\n",
    "pyplot.boxplot(results, labels=[str(r) for r in repeats], showmeans=True)\n",
    "pyplot.show()"
   ]
  },
  {
   "cell_type": "markdown",
   "metadata": {},
   "source": [
    "We can see that the mean seems to coalesce around a value of about 70.5 percent. We might take this as the stable estimate of model performance and in turn, choose 4 or 5 repeats that seem to approximate this value first. Looking at the standard error, we can see that it decreases with an increase in the number of repeats and stabilizes with a value around 0.002 at around 7 or 8 repeats, although 5 repeats achieve a standard error of 0.003. "
   ]
  },
  {
   "cell_type": "markdown",
   "metadata": {},
   "source": [
    "## Optimize Logistic Regression \n",
    "### With Grid Search"
   ]
  },
  {
   "cell_type": "code",
   "execution_count": 87,
   "metadata": {},
   "outputs": [
    {
     "name": "stdout",
     "output_type": "stream",
     "text": [
      "Best Penalty: l2\n",
      "Best C: 1.0\n"
     ]
    }
   ],
   "source": [
    "from sklearn.pipeline import Pipeline\n",
    "from sklearn.ensemble import RandomForestClassifier\n",
    "from sklearn.model_selection import GridSearchCV\n",
    "\n",
    "model = LogisticRegression()\n",
    "\n",
    "# Hyperparameter Space\n",
    "## solver space \n",
    "solver = ['liblinear']\n",
    "## Penalty space\n",
    "penalty = ['l1', 'l2']\n",
    "## Regularization hyperparameter space\n",
    "C = np.logspace(0, 4, 10)\n",
    "hyperparameters = dict(C=C, penalty=penalty,solver = solver)\n",
    "\n",
    "# Create grid search using 5-fold cross validation \n",
    "clf = GridSearchCV(model, hyperparameters, cv=5, verbose=0)\n",
    "# Fit grid search\n",
    "best_model = clf.fit(X_train, y_train)\n",
    "\n",
    "print('Best Penalty:', best_model.best_estimator_.get_params()['penalty'])\n",
    "print('Best C:', best_model.best_estimator_.get_params()['C'])"
   ]
  },
  {
   "cell_type": "code",
   "execution_count": 90,
   "metadata": {},
   "outputs": [
    {
     "data": {
      "image/png": "[encoded data removed]",
      "text/plain": [
       "<Figure size 432x288 with 1 Axes>"
      ]
     },
     "metadata": {
      "needs_background": "light"
     },
     "output_type": "display_data"
    },
    {
     "name": "stdout",
     "output_type": "stream",
     "text": [
      "the accuracy score is 0.7035775127768313\n"
     ]
    }
   ],
   "source": [
    "model = LogisticRegression(penalty='l2',solver='liblinear', C = 1.0 ,max_iter=1000)\n",
    "model.fit(X_train, y_train)\n",
    "# predict probabilities\n",
    "lr_probs = model.predict_proba(X_test)\n",
    "# keep probabilities for the positive outcome only\n",
    "lr_probs = lr_probs[:, 1]\n",
    "fpr, tpr, threshold = metrics.roc_curve(y_test,lr_probs)\n",
    "roc_auc = metrics.auc(fpr, tpr)\n",
    "\n",
    "# plot\n",
    "plt.title('ROC Curve')\n",
    "plt.plot(fpr, tpr, 'b', label = 'AUC = %0.2f' % roc_auc)\n",
    "plt.legend(loc = 'lower right')\n",
    "plt.plot([0, 1], [0, 1],'r--')\n",
    "plt.xlim([0, 1])\n",
    "plt.ylim([0, 1])\n",
    "plt.ylabel('True Positive Rate')\n",
    "plt.xlabel('False Positive Rate')\n",
    "plt.show()\n",
    "prediction = model.predict(X_test)\n",
    "print('the accuracy score is',accuracy_score(y_test, prediction))"
   ]
  },
  {
   "cell_type": "code",
   "execution_count": 42,
   "metadata": {},
   "outputs": [],
   "source": [
    "prediction = model.predict(test_x)"
   ]
  },
  {
   "cell_type": "code",
   "execution_count": 43,
   "metadata": {},
   "outputs": [],
   "source": [
    "# np.savetxt(\"submission.csv\", prediction, delimiter=\",\")\n",
    "pd.DataFrame(prediction).to_csv(\"prediction.csv\")"
   ]
  },
  {
   "cell_type": "markdown",
   "metadata": {},
   "source": [
    "After tunning the hyperparameter, we see increase in acucracy score from 0.701 to 0.7035775127768313. "
   ]
  },
  {
   "cell_type": "markdown",
   "metadata": {},
   "source": [
    "## Random Forest\n",
    "### Base Model "
   ]
  },
  {
   "cell_type": "code",
   "execution_count": 101,
   "metadata": {},
   "outputs": [
    {
     "data": {
      "text/plain": [
       "-0.36431150770584914"
      ]
     },
     "execution_count": 101,
     "metadata": {},
     "output_type": "execute_result"
    }
   ],
   "source": [
    "from sklearn.ensemble import RandomForestRegressor\n",
    "rf = RandomForestRegressor()\n",
    "rf.fit(X_train,y_train)\n",
    "np.mean(cross_val_score(rf,X_train,y_train,scoring = 'neg_mean_absolute_error', cv= 3))"
   ]
  },
  {
   "cell_type": "markdown",
   "metadata": {},
   "source": [
    "# Optimization using GridsearchCV "
   ]
  },
  {
   "cell_type": "code",
   "execution_count": 102,
   "metadata": {},
   "outputs": [
    {
     "data": {
      "text/plain": [
       "RandomForestRegressor(max_depth=9, min_samples_leaf=5, n_estimators=1)"
      ]
     },
     "execution_count": 102,
     "metadata": {},
     "output_type": "execute_result"
    }
   ],
   "source": [
    "num_estimators = np.arange(1,10)\n",
    "depths = np.arange(1,10)\n",
    "num_leafs = np.arange(1,10)\n",
    "max_features = ['auto', 'log2', 'sqrt']\n",
    "rf_parameters = [{'n_estimators': num_estimators,\n",
    "                 'max_depth' : depths,\n",
    "                 'min_samples_leaf' : num_leafs,\n",
    "                 'max_features' : max_features}]\n",
    "\n",
    "rf_gs = GridSearchCV(RandomForestRegressor(), rf_parameters, scoring = 'neg_mean_absolute_error', cv = 3)\n",
    "rf_gs.fit(X_train,y_train)\n",
    "\n",
    "rf_gs.best_score_ # -56.048108459722435\n",
    "rf_gs.best_estimator_"
   ]
  },
  {
   "cell_type": "code",
   "execution_count": 103,
   "metadata": {},
   "outputs": [
    {
     "data": {
      "text/plain": [
       "-0.3787395706616525"
      ]
     },
     "execution_count": 103,
     "metadata": {},
     "output_type": "execute_result"
    }
   ],
   "source": [
    "rf = RandomForestRegressor(max_depth=9, n_estimators=7)\n",
    "rf.fit(X_train,y_train)\n",
    "np.mean(cross_val_score(rf,X_train,y_train,scoring = 'neg_mean_absolute_error', cv= 3))"
   ]
  },
  {
   "cell_type": "markdown",
   "metadata": {},
   "source": [
    "# Decision Tree \n",
    "## Base Model"
   ]
  },
  {
   "cell_type": "code",
   "execution_count": 97,
   "metadata": {},
   "outputs": [
    {
     "data": {
      "text/plain": [
       "-0.38562351517520904"
      ]
     },
     "execution_count": 97,
     "metadata": {},
     "output_type": "execute_result"
    }
   ],
   "source": [
    "from sklearn.tree import DecisionTreeRegressor\n",
    "dtr = DecisionTreeRegressor(min_samples_leaf=.01)\n",
    "dtr.fit(X_train,y_train)\n",
    "np.mean(cross_val_score(dtr,X_train,y_train, scoring = 'neg_mean_absolute_error', cv = 3)) # NMAE = -58.64131895872581"
   ]
  },
  {
   "cell_type": "code",
   "execution_count": 104,
   "metadata": {},
   "outputs": [
    {
     "data": {
      "text/plain": [
       "DecisionTreeRegressor(max_depth=9, min_samples_leaf=3)"
      ]
     },
     "execution_count": 104,
     "metadata": {},
     "output_type": "execute_result"
    }
   ],
   "source": [
    "depths = np.arange(1,10)\n",
    "num_leafs = np.arange(1,10)\n",
    "dt_parameters = [{'max_depth' : depths,\n",
    "                  'min_samples_leaf' : num_leafs}]\n",
    "\n",
    "dt_gs = GridSearchCV(DecisionTreeRegressor(), dt_parameters, scoring = 'neg_mean_absolute_error',cv = 3)\n",
    "dt_gs.fit(X_train,y_train)\n",
    "\n",
    "dt_gs.best_score_ \n",
    "dt_gs.best_estimator_"
   ]
  },
  {
   "cell_type": "code",
   "execution_count": null,
   "metadata": {},
   "outputs": [],
   "source": []
  },
  {
   "cell_type": "markdown",
   "metadata": {},
   "source": [
    "## Support vector machines"
   ]
  },
  {
   "cell_type": "code",
   "execution_count": null,
   "metadata": {},
   "outputs": [],
   "source": [
    "# pip install xgboost\n",
    "from xgboost.sklearn import XGBClassifier\n",
    "from sklearn.preprocessing import LabelEncoder"
   ]
  }
 ],
 "metadata": {
  "kernelspec": {
   "display_name": "Python 3",
   "language": "python",
   "name": "python3"
  },
  "language_info": {
   "codemirror_mode": {
    "name": "ipython",
    "version": 3
   },
   "file_extension": ".py",
   "mimetype": "text/x-python",
   "name": "python",
   "nbconvert_exporter": "python",
   "pygments_lexer": "ipython3",
   "version": "3.7.4"
  }
 },
 "nbformat": 4,
 "nbformat_minor": 2
}
